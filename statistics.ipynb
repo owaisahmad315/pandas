{
  "nbformat": 4,
  "nbformat_minor": 0,
  "metadata": {
    "colab": {
      "provenance": [],
      "mount_file_id": "1yesu_857qmg0-kO6Lv5stwiN1s8jUVjl",
      "authorship_tag": "ABX9TyPyZnxsfAowGl77taKHdA8l",
      "include_colab_link": true
    },
    "kernelspec": {
      "name": "python3",
      "display_name": "Python 3"
    },
    "language_info": {
      "name": "python"
    }
  },
  "cells": [
    {
      "cell_type": "markdown",
      "metadata": {
        "id": "view-in-github",
        "colab_type": "text"
      },
      "source": [
        "<a href=\"https://colab.research.google.com/github/owaisahmad315/pandas/blob/main/statistics.ipynb\" target=\"_parent\"><img src=\"https://colab.research.google.com/assets/colab-badge.svg\" alt=\"Open In Colab\"/></a>"
      ]
    },
    {
      "cell_type": "code",
      "source": [
        "import pandas as pd\n",
        "\n"
      ],
      "metadata": {
        "id": "rLsaUbay85zd"
      },
      "execution_count": 3,
      "outputs": []
    },
    {
      "cell_type": "code",
      "execution_count": 5,
      "metadata": {
        "colab": {
          "base_uri": "https://localhost:8080/"
        },
        "id": "qL__g6Nz8bJT",
        "outputId": "06c98cce-768d-4ac4-ab58-c0ffb2415e31"
      },
      "outputs": [
        {
          "output_type": "execute_result",
          "data": {
            "text/plain": [
              "George     3.0\n",
              "Ringo      NaN\n",
              "John      11.0\n",
              "Paul       9.0\n",
              "Name: Counts, dtype: float64"
            ]
          },
          "metadata": {},
          "execution_count": 5
        }
      ],
      "source": [
        "songs_66 = pd.Series([3, None , 11, 9],\n",
        "                     index=['George', 'Ringo', 'John', 'Paul'],\n",
        "                    name='Counts')\n",
        "songs_66\n"
      ]
    },
    {
      "cell_type": "code",
      "source": [
        "# One of the most basic measurements is the sum of the values in a series:\n",
        "songs_66.sum()"
      ],
      "metadata": {
        "colab": {
          "base_uri": "https://localhost:8080/"
        },
        "id": "vHZwDGnB9MVC",
        "outputId": "a8044441-bfc5-4f5c-f863-e8684d53e32b"
      },
      "execution_count": 6,
      "outputs": [
        {
          "output_type": "execute_result",
          "data": {
            "text/plain": [
              "23.0"
            ]
          },
          "metadata": {},
          "execution_count": 6
        }
      ]
    },
    {
      "cell_type": "code",
      "source": [
        "songs_66.mean()"
      ],
      "metadata": {
        "colab": {
          "base_uri": "https://localhost:8080/"
        },
        "id": "7GQI__Mj9c0K",
        "outputId": "0859a328-e4fd-43e6-c09d-be582150fbdd"
      },
      "execution_count": 7,
      "outputs": [
        {
          "output_type": "execute_result",
          "data": {
            "text/plain": [
              "7.666666666666667"
            ]
          },
          "metadata": {},
          "execution_count": 7
        }
      ]
    },
    {
      "cell_type": "code",
      "source": [
        "songs_66.median()"
      ],
      "metadata": {
        "colab": {
          "base_uri": "https://localhost:8080/"
        },
        "id": "xGY_MmbZ9f4B",
        "outputId": "bd0824a8-6f80-476a-9a92-38cddc36c759"
      },
      "execution_count": 8,
      "outputs": [
        {
          "output_type": "execute_result",
          "data": {
            "text/plain": [
              "9.0"
            ]
          },
          "metadata": {},
          "execution_count": 8
        }
      ]
    },
    {
      "cell_type": "code",
      "source": [
        "songs_66.quantile()"
      ],
      "metadata": {
        "colab": {
          "base_uri": "https://localhost:8080/"
        },
        "id": "bPocM0xN9rOK",
        "outputId": "658bc758-073d-4a7f-f5d0-83835f0cdf2f"
      },
      "execution_count": 9,
      "outputs": [
        {
          "output_type": "execute_result",
          "data": {
            "text/plain": [
              "9.0"
            ]
          },
          "metadata": {},
          "execution_count": 9
        }
      ]
    },
    {
      "cell_type": "code",
      "source": [
        "songs_66.quantile(.1)"
      ],
      "metadata": {
        "colab": {
          "base_uri": "https://localhost:8080/"
        },
        "id": "Q94b-Y-R9ywg",
        "outputId": "218b9d69-b24d-49b8-e854-5076bc07aeb6"
      },
      "execution_count": 10,
      "outputs": [
        {
          "output_type": "execute_result",
          "data": {
            "text/plain": [
              "4.2"
            ]
          },
          "metadata": {},
          "execution_count": 10
        }
      ]
    },
    {
      "cell_type": "code",
      "source": [
        "songs_66.quantile(.9)"
      ],
      "metadata": {
        "colab": {
          "base_uri": "https://localhost:8080/"
        },
        "id": "BO1V5NhX930C",
        "outputId": "61e2662b-f200-4c7e-ce49-dbb3b8dc9397"
      },
      "execution_count": 11,
      "outputs": [
        {
          "output_type": "execute_result",
          "data": {
            "text/plain": [
              "10.6"
            ]
          },
          "metadata": {},
          "execution_count": 11
        }
      ]
    },
    {
      "cell_type": "code",
      "source": [
        "\"\"\"\n",
        "To get a good overall feel for the series, the .describe method presents\n",
        "a good number of summary statistics and returns the result as a series. It\n",
        "includes the count of values, their mean, standard deviation, minimum and\n",
        "maximum values, and the 25%, 50%, and 75% quantiles:\n",
        "\"\"\"\n",
        "\n",
        "songs_66.describe()"
      ],
      "metadata": {
        "colab": {
          "base_uri": "https://localhost:8080/"
        },
        "id": "NwRVXNjeAN_O",
        "outputId": "f8eb6619-7785-45ba-a925-1b11ac1c4d68"
      },
      "execution_count": 12,
      "outputs": [
        {
          "output_type": "execute_result",
          "data": {
            "text/plain": [
              "count     3.000000\n",
              "mean      7.666667\n",
              "std       4.163332\n",
              "min       3.000000\n",
              "25%       6.000000\n",
              "50%       9.000000\n",
              "75%      10.000000\n",
              "max      11.000000\n",
              "Name: Counts, dtype: float64"
            ]
          },
          "metadata": {},
          "execution_count": 12
        }
      ]
    },
    {
      "cell_type": "code",
      "source": [
        "\"\"\"\n",
        "You can pass in specific percentiles if you so desire with the\n",
        "percentiles parameter:\n",
        "\"\"\"\n",
        "songs_66.describe(percentiles= [0.5, .1, .2])"
      ],
      "metadata": {
        "colab": {
          "base_uri": "https://localhost:8080/"
        },
        "id": "4KwSJi5LAcfb",
        "outputId": "0309ae0b-13cf-4e76-b26e-34a7f121a8b9"
      },
      "execution_count": 13,
      "outputs": [
        {
          "output_type": "execute_result",
          "data": {
            "text/plain": [
              "count     3.000000\n",
              "mean      7.666667\n",
              "std       4.163332\n",
              "min       3.000000\n",
              "10%       4.200000\n",
              "20%       5.400000\n",
              "50%       9.000000\n",
              "max      11.000000\n",
              "Name: Counts, dtype: float64"
            ]
          },
          "metadata": {},
          "execution_count": 13
        }
      ]
    },
    {
      "cell_type": "code",
      "source": [
        "\"\"\"\n",
        "The series also has methods to find the minimum and maximum for the\n",
        "values, .min and .max. In addition, there are methods to get the index\n",
        "location of the minimum and maximum index labels, .idxmin and\n",
        ".idxmax:\n",
        "\n",
        "\"\"\"\n",
        "songs_66.min()"
      ],
      "metadata": {
        "colab": {
          "base_uri": "https://localhost:8080/"
        },
        "id": "mhwGucHoAzYn",
        "outputId": "5dd62857-9092-4308-dda3-f5b9e533e303"
      },
      "execution_count": 14,
      "outputs": [
        {
          "output_type": "execute_result",
          "data": {
            "text/plain": [
              "3.0"
            ]
          },
          "metadata": {},
          "execution_count": 14
        }
      ]
    },
    {
      "cell_type": "code",
      "source": [
        "songs_66.idxmin()"
      ],
      "metadata": {
        "colab": {
          "base_uri": "https://localhost:8080/",
          "height": 36
        },
        "id": "VUHKksH7A_2i",
        "outputId": "11eb5cf9-1c78-441f-90ca-c72e05019963"
      },
      "execution_count": 15,
      "outputs": [
        {
          "output_type": "execute_result",
          "data": {
            "text/plain": [
              "'George'"
            ],
            "application/vnd.google.colaboratory.intrinsic+json": {
              "type": "string"
            }
          },
          "metadata": {},
          "execution_count": 15
        }
      ]
    },
    {
      "cell_type": "code",
      "source": [
        "songs_66.max()"
      ],
      "metadata": {
        "colab": {
          "base_uri": "https://localhost:8080/"
        },
        "id": "hcl5w0JXBGId",
        "outputId": "c59c0595-81fa-4fb2-ae71-58dcca5f3ff3"
      },
      "execution_count": 16,
      "outputs": [
        {
          "output_type": "execute_result",
          "data": {
            "text/plain": [
              "11.0"
            ]
          },
          "metadata": {},
          "execution_count": 16
        }
      ]
    },
    {
      "cell_type": "code",
      "source": [
        "songs_66.idxmax()"
      ],
      "metadata": {
        "colab": {
          "base_uri": "https://localhost:8080/",
          "height": 36
        },
        "id": "LfBQlXn-BGOz",
        "outputId": "f40aa030-1e9c-498b-c03d-b03d30ba7396"
      },
      "execution_count": 17,
      "outputs": [
        {
          "output_type": "execute_result",
          "data": {
            "text/plain": [
              "'John'"
            ],
            "application/vnd.google.colaboratory.intrinsic+json": {
              "type": "string"
            }
          },
          "metadata": {},
          "execution_count": 17
        }
      ]
    },
    {
      "cell_type": "code",
      "source": [
        "# Variance\n",
        "songs_66.var()"
      ],
      "metadata": {
        "colab": {
          "base_uri": "https://localhost:8080/"
        },
        "id": "E0Wivp8fBGbd",
        "outputId": "430039ae-b818-40f7-d86b-c83c964c3adb"
      },
      "execution_count": 18,
      "outputs": [
        {
          "output_type": "execute_result",
          "data": {
            "text/plain": [
              "17.333333333333336"
            ]
          },
          "metadata": {},
          "execution_count": 18
        }
      ]
    },
    {
      "cell_type": "code",
      "source": [
        "# standard deviation\n",
        "songs_66.std()"
      ],
      "metadata": {
        "colab": {
          "base_uri": "https://localhost:8080/"
        },
        "id": "RPnQIZWeBdqL",
        "outputId": "b0f4234b-97dd-4661-c291-db0a2c42a3c5"
      },
      "execution_count": 19,
      "outputs": [
        {
          "output_type": "execute_result",
          "data": {
            "text/plain": [
              "4.163331998932266"
            ]
          },
          "metadata": {},
          "execution_count": 19
        }
      ]
    },
    {
      "cell_type": "code",
      "source": [
        "# mean absolute deviation\n",
        "songs_66.mad()"
      ],
      "metadata": {
        "colab": {
          "base_uri": "https://localhost:8080/"
        },
        "id": "yedRwj_EBGea",
        "outputId": "bd5d60ab-5c87-4503-ada8-5036b5df1138"
      },
      "execution_count": 20,
      "outputs": [
        {
          "output_type": "stream",
          "name": "stderr",
          "text": [
            "<ipython-input-20-91256c111dc0>:2: FutureWarning: The 'mad' method is deprecated and will be removed in a future version. To compute the same result, you may do `(df - df.mean()).abs().mean()`.\n",
            "  songs_66.mad()\n"
          ]
        },
        {
          "output_type": "execute_result",
          "data": {
            "text/plain": [
              "3.1111111111111107"
            ]
          },
          "metadata": {},
          "execution_count": 20
        }
      ]
    },
    {
      "cell_type": "code",
      "source": [
        "\"\"\"\n",
        "Skew is a summary statistic that measures how the tails behave. A\n",
        "normal distribution should have a skew around 0. A negative skew\n",
        "indicates that the left tail is longer, whereas a positive skew indicates that\n",
        "the right tail is longer. Below is a plot of the histogram:\n",
        "\n",
        "\"\"\"\n",
        "import matplotlib.pyplot as plt\n",
        "fig = plt.figure()\n",
        "ax = fig.add_subplot(111)\n",
        "songs_66.hist(ax=ax)\n",
        "fig.savefig('/tmp/song-hist.png')\n"
      ],
      "metadata": {
        "colab": {
          "base_uri": "https://localhost:8080/",
          "height": 430
        },
        "id": "m4xXZgSdIJ3O",
        "outputId": "87783f3f-5224-4a08-c82d-21adaf114df4"
      },
      "execution_count": 24,
      "outputs": [
        {
          "output_type": "display_data",
          "data": {
            "text/plain": [
              "<Figure size 640x480 with 1 Axes>"
            ],
            "image/png": "[encoded data removed]"
          },
          "metadata": {}
        }
      ]
    },
    {
      "cell_type": "code",
      "source": [
        "songs_66.skew()"
      ],
      "metadata": {
        "colab": {
          "base_uri": "https://localhost:8080/"
        },
        "id": "EETNtyQ4IwIR",
        "outputId": "09446eab-594d-45ea-f647-9e06802363b1"
      },
      "execution_count": 25,
      "outputs": [
        {
          "output_type": "execute_result",
          "data": {
            "text/plain": [
              "-1.293342780733397"
            ]
          },
          "metadata": {},
          "execution_count": 25
        }
      ]
    },
    {
      "cell_type": "code",
      "source": [
        "\"\"\"\n",
        "Kurtosis is a summary measure that describes how narrow the “peak” of\n",
        "is distribution is. The larger the number, the narrower the peak is.\n",
        "Normally, this value is reported alongside skew. The .kurt method returns\n",
        "nan if there are fewer than four numbers:\n",
        "\n",
        "\"\"\"\n",
        "songs_66.kurt()"
      ],
      "metadata": {
        "colab": {
          "base_uri": "https://localhost:8080/"
        },
        "id": "j1nFlvvlIJ5b",
        "outputId": "808e82d4-629b-45f2-f779-0fc8014dfd9d"
      },
      "execution_count": 26,
      "outputs": [
        {
          "output_type": "execute_result",
          "data": {
            "text/plain": [
              "nan"
            ]
          },
          "metadata": {},
          "execution_count": 26
        }
      ]
    },
    {
      "cell_type": "code",
      "source": [
        "songs_69 = pd.Series([18, 22, 7, 5],\n",
        "                      index=[ 'John', 'Paul', 'George', 'Ringo'],\n",
        "                      name='Counts')\n"
      ],
      "metadata": {
        "id": "S8AdwQPBIJ-n"
      },
      "execution_count": 28,
      "outputs": []
    },
    {
      "cell_type": "code",
      "source": [
        "\"\"\"\n",
        "Covariance is a measure of how two variables change together. If they\n",
        "tend to increase together, it will be positive. If one tends to decrease while\n",
        "the other increases, it will be negative:\n",
        "\n",
        "\"\"\"\n",
        "songs_66.cov(songs_69)"
      ],
      "metadata": {
        "colab": {
          "base_uri": "https://localhost:8080/"
        },
        "id": "duZd58t0IJ79",
        "outputId": "41537f5c-bf8f-4869-8b0c-86970afd2a44"
      },
      "execution_count": 29,
      "outputs": [
        {
          "output_type": "execute_result",
          "data": {
            "text/plain": [
              "28.333333333333332"
            ]
          },
          "metadata": {},
          "execution_count": 29
        }
      ]
    },
    {
      "cell_type": "code",
      "source": [
        "\"\"\"\n",
        "When the covariance is normalized (by dividing by the standard\n",
        "deviations of both series), it is called the correlation coefficient. The .corr\n",
        "method gives the Pearson Correlation Coefficient. This value is a number\n",
        "from -1 to 1. The more positive this value is, the greater the correlation.\n",
        "The more negative it is, the greater the inverse correlation. A value of zero\n",
        "indicates no correlation:\n",
        "\n",
        "\"\"\"\n",
        "songs_66.corr(songs_69)"
      ],
      "metadata": {
        "colab": {
          "base_uri": "https://localhost:8080/"
        },
        "id": "5UzRdTcYIKB-",
        "outputId": "7e75bc29-3073-424a-94a2-eb8eb16edacb"
      },
      "execution_count": 31,
      "outputs": [
        {
          "output_type": "execute_result",
          "data": {
            "text/plain": [
              "0.8761489936497804"
            ]
          },
          "metadata": {},
          "execution_count": 31
        }
      ]
    },
    {
      "cell_type": "code",
      "source": [
        "\"\"\"\n",
        "The autocorrelation measure describes the correlation of a series with\n",
        "itself shifted one position. 1 indicates perfect correlation, and -1 indicates\n",
        "anti-correlation. Here is another case where the sample size is small, so\n",
        "take these with a grain of salt. Note that .autocorr does not ignore NaN\n",
        "by default:\n",
        "\n",
        "\"\"\"\n",
        "songs_66.autocorr()"
      ],
      "metadata": {
        "colab": {
          "base_uri": "https://localhost:8080/"
        },
        "id": "zU1baBDnOu0y",
        "outputId": "2bdf7b80-1a28-43e2-a842-88d506f088bb"
      },
      "execution_count": 38,
      "outputs": [
        {
          "output_type": "execute_result",
          "data": {
            "text/plain": [
              "nan"
            ]
          },
          "metadata": {},
          "execution_count": 38
        }
      ]
    },
    {
      "cell_type": "code",
      "source": [
        "songs_66.dropna().autocorr()"
      ],
      "metadata": {
        "colab": {
          "base_uri": "https://localhost:8080/"
        },
        "id": "CTHecxpXPJRi",
        "outputId": "6e89f3db-5e70-4950-cd94-b52e6a4da36a"
      },
      "execution_count": 39,
      "outputs": [
        {
          "output_type": "execute_result",
          "data": {
            "text/plain": [
              "-0.9999999999999999"
            ]
          },
          "metadata": {},
          "execution_count": 39
        }
      ]
    },
    {
      "cell_type": "markdown",
      "source": [
        "## Convert **Types**"
      ],
      "metadata": {
        "id": "1kJpXq7rQ0jo"
      }
    },
    {
      "cell_type": "code",
      "source": [
        "songs_66.round()"
      ],
      "metadata": {
        "colab": {
          "base_uri": "https://localhost:8080/"
        },
        "id": "lE7J7LhSPCRX",
        "outputId": "34a15dc1-e002-4d48-caf8-55b423f7bcb8"
      },
      "execution_count": 40,
      "outputs": [
        {
          "output_type": "execute_result",
          "data": {
            "text/plain": [
              "George     3.0\n",
              "Ringo      NaN\n",
              "John      11.0\n",
              "Paul       9.0\n",
              "Name: Counts, dtype: float64"
            ]
          },
          "metadata": {},
          "execution_count": 40
        }
      ]
    },
    {
      "cell_type": "code",
      "source": [
        "\"\"\"\n",
        "Note that even though the value is rounded, the type is still a float.\n",
        "Numbers can be clipped between lower and upper thresholds using the\n",
        ".clip method. This method does not change the type either:\n",
        "\n",
        "\"\"\"\n",
        "songs_66.clip(lower=80, upper = 90)"
      ],
      "metadata": {
        "colab": {
          "base_uri": "https://localhost:8080/"
        },
        "id": "iy1Qpy7NO8UI",
        "outputId": "99e90bf7-d9e7-41a8-e868-cf8459c2b24c"
      },
      "execution_count": 41,
      "outputs": [
        {
          "output_type": "execute_result",
          "data": {
            "text/plain": [
              "George    80.0\n",
              "Ringo      NaN\n",
              "John      80.0\n",
              "Paul      80.0\n",
              "Name: Counts, dtype: float64"
            ]
          },
          "metadata": {},
          "execution_count": 41
        }
      ]
    },
    {
      "cell_type": "code",
      "source": [
        "\"\"\"\n",
        "The .astype method attempts to convert values to the type passed in. In\n",
        "the instance below, the float values are being converted to strings. To the\n",
        "unwary, there does not appear to be much change other than the dtype\n",
        "changing to object:\n",
        "\"\"\"\n",
        "songs_66.astype(str)"
      ],
      "metadata": {
        "colab": {
          "base_uri": "https://localhost:8080/"
        },
        "id": "QMwiULqGOu29",
        "outputId": "7b0f2a82-ceef-4d2e-974f-d19eee039325"
      },
      "execution_count": 45,
      "outputs": [
        {
          "output_type": "execute_result",
          "data": {
            "text/plain": [
              "George     3.0\n",
              "Ringo      nan\n",
              "John      11.0\n",
              "Paul       9.0\n",
              "Name: Counts, dtype: object"
            ]
          },
          "metadata": {},
          "execution_count": 45
        }
      ]
    },
    {
      "cell_type": "code",
      "source": [
        "\"\"\"\n",
        "But, if a method is invoked on the converted string values, the result\n",
        "might not be the desired output. In this case .max now returns the\n",
        "lexicographic maximum:\n",
        "\"\"\"\n",
        "songs_66.astype(str).max()"
      ],
      "metadata": {
        "colab": {
          "base_uri": "https://localhost:8080/",
          "height": 36
        },
        "id": "t47vzDVOOu5j",
        "outputId": "fe6067f6-db9c-44fd-87dc-fa3d4eddc987"
      },
      "execution_count": 47,
      "outputs": [
        {
          "output_type": "execute_result",
          "data": {
            "text/plain": [
              "'nan'"
            ],
            "application/vnd.google.colaboratory.intrinsic+json": {
              "type": "string"
            }
          },
          "metadata": {},
          "execution_count": 47
        }
      ]
    },
    {
      "cell_type": "code",
      "source": [],
      "metadata": {
        "id": "Bl2zvJ98Ou74"
      },
      "execution_count": null,
      "outputs": []
    },
    {
      "cell_type": "code",
      "source": [],
      "metadata": {
        "id": "Ll701hs9Ou-R"
      },
      "execution_count": null,
      "outputs": []
    },
    {
      "cell_type": "code",
      "source": [],
      "metadata": {
        "id": "EDi3x4J4OvCZ"
      },
      "execution_count": null,
      "outputs": []
    }
  ]
}