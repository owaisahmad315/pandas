{
  "nbformat": 4,
  "nbformat_minor": 0,
  "metadata": {
    "colab": {
      "provenance": [],
      "mount_file_id": "1yesu_857qmg0-kO6Lv5stwiN1s8jUVjl",
      "authorship_tag": "ABX9TyMr4BSdFaDU/vgUYXpQkMp2",
      "include_colab_link": true
    },
    "kernelspec": {
      "name": "python3",
      "display_name": "Python 3"
    },
    "language_info": {
      "name": "python"
    }
  },
  "cells": [
    {
      "cell_type": "markdown",
      "metadata": {
        "id": "view-in-github",
        "colab_type": "text"
      },
      "source": [
        "<a href=\"https://colab.research.google.com/github/owaisahmad315/pandas/blob/main/statistics.ipynb\" target=\"_parent\"><img src=\"https://colab.research.google.com/assets/colab-badge.svg\" alt=\"Open In Colab\"/></a>"
      ]
    },
    {
      "cell_type": "code",
      "source": [
        "import pandas as pd\n",
        "\n"
      ],
      "metadata": {
        "id": "rLsaUbay85zd"
      },
      "execution_count": 60,
      "outputs": []
    },
    {
      "cell_type": "code",
      "execution_count": 61,
      "metadata": {
        "colab": {
          "base_uri": "https://localhost:8080/"
        },
        "id": "qL__g6Nz8bJT",
        "outputId": "68541b91-2968-4270-a54d-4dbc354eeda6"
      },
      "outputs": [
        {
          "output_type": "execute_result",
          "data": {
            "text/plain": [
              "George     3.0\n",
              "Ringo      NaN\n",
              "John      11.0\n",
              "Paul       9.0\n",
              "Name: Counts, dtype: float64"
            ]
          },
          "metadata": {},
          "execution_count": 61
        }
      ],
      "source": [
        "songs_66 = pd.Series([3, None , 11, 9],\n",
        "                     index=['George', 'Ringo', 'John', 'Paul'],\n",
        "                    name='Counts')\n",
        "songs_66\n"
      ]
    },
    {
      "cell_type": "code",
      "source": [
        "# One of the most basic measurements is the sum of the values in a series:\n",
        "songs_66.sum()"
      ],
      "metadata": {
        "colab": {
          "base_uri": "https://localhost:8080/"
        },
        "id": "vHZwDGnB9MVC",
        "outputId": "d89e7a01-3d95-48e7-9583-1f89c49f6bba"
      },
      "execution_count": 62,
      "outputs": [
        {
          "output_type": "execute_result",
          "data": {
            "text/plain": [
              "23.0"
            ]
          },
          "metadata": {},
          "execution_count": 62
        }
      ]
    },
    {
      "cell_type": "code",
      "source": [
        "songs_66.mean()"
      ],
      "metadata": {
        "colab": {
          "base_uri": "https://localhost:8080/"
        },
        "id": "7GQI__Mj9c0K",
        "outputId": "4e512d8f-4499-41b8-a9a9-e85ff714daf3"
      },
      "execution_count": 63,
      "outputs": [
        {
          "output_type": "execute_result",
          "data": {
            "text/plain": [
              "7.666666666666667"
            ]
          },
          "metadata": {},
          "execution_count": 63
        }
      ]
    },
    {
      "cell_type": "code",
      "source": [
        "songs_66.median()"
      ],
      "metadata": {
        "colab": {
          "base_uri": "https://localhost:8080/"
        },
        "id": "xGY_MmbZ9f4B",
        "outputId": "3aca22c8-7edc-467d-d8ca-eb2705504930"
      },
      "execution_count": 64,
      "outputs": [
        {
          "output_type": "execute_result",
          "data": {
            "text/plain": [
              "9.0"
            ]
          },
          "metadata": {},
          "execution_count": 64
        }
      ]
    },
    {
      "cell_type": "code",
      "source": [
        "songs_66.quantile()"
      ],
      "metadata": {
        "colab": {
          "base_uri": "https://localhost:8080/"
        },
        "id": "bPocM0xN9rOK",
        "outputId": "cb04c9d2-e2c7-4b9f-f14c-c11ab3ec3f93"
      },
      "execution_count": 65,
      "outputs": [
        {
          "output_type": "execute_result",
          "data": {
            "text/plain": [
              "9.0"
            ]
          },
          "metadata": {},
          "execution_count": 65
        }
      ]
    },
    {
      "cell_type": "code",
      "source": [
        "songs_66.quantile(.1)"
      ],
      "metadata": {
        "colab": {
          "base_uri": "https://localhost:8080/"
        },
        "id": "Q94b-Y-R9ywg",
        "outputId": "fb5a13fd-293d-4c20-cac8-a5a1ea000a42"
      },
      "execution_count": 66,
      "outputs": [
        {
          "output_type": "execute_result",
          "data": {
            "text/plain": [
              "4.2"
            ]
          },
          "metadata": {},
          "execution_count": 66
        }
      ]
    },
    {
      "cell_type": "code",
      "source": [
        "songs_66.quantile(.9)"
      ],
      "metadata": {
        "colab": {
          "base_uri": "https://localhost:8080/"
        },
        "id": "BO1V5NhX930C",
        "outputId": "87ffde11-ef15-4716-f87c-10bd6404a560"
      },
      "execution_count": 67,
      "outputs": [
        {
          "output_type": "execute_result",
          "data": {
            "text/plain": [
              "10.6"
            ]
          },
          "metadata": {},
          "execution_count": 67
        }
      ]
    },
    {
      "cell_type": "code",
      "source": [
        "\"\"\"\n",
        "To get a good overall feel for the series, the .describe method presents\n",
        "a good number of summary statistics and returns the result as a series. It\n",
        "includes the count of values, their mean, standard deviation, minimum and\n",
        "maximum values, and the 25%, 50%, and 75% quantiles:\n",
        "\"\"\"\n",
        "\n",
        "songs_66.describe()"
      ],
      "metadata": {
        "colab": {
          "base_uri": "https://localhost:8080/"
        },
        "id": "NwRVXNjeAN_O",
        "outputId": "451f9087-40c7-46dd-a26e-57ad215cbb31"
      },
      "execution_count": 68,
      "outputs": [
        {
          "output_type": "execute_result",
          "data": {
            "text/plain": [
              "count     3.000000\n",
              "mean      7.666667\n",
              "std       4.163332\n",
              "min       3.000000\n",
              "25%       6.000000\n",
              "50%       9.000000\n",
              "75%      10.000000\n",
              "max      11.000000\n",
              "Name: Counts, dtype: float64"
            ]
          },
          "metadata": {},
          "execution_count": 68
        }
      ]
    },
    {
      "cell_type": "code",
      "source": [
        "\"\"\"\n",
        "You can pass in specific percentiles if you so desire with the\n",
        "percentiles parameter:\n",
        "\"\"\"\n",
        "songs_66.describe(percentiles= [0.5, .1, .2])"
      ],
      "metadata": {
        "colab": {
          "base_uri": "https://localhost:8080/"
        },
        "id": "4KwSJi5LAcfb",
        "outputId": "9f3741ff-02e8-47ab-d091-c26eaf05c3da"
      },
      "execution_count": 69,
      "outputs": [
        {
          "output_type": "execute_result",
          "data": {
            "text/plain": [
              "count     3.000000\n",
              "mean      7.666667\n",
              "std       4.163332\n",
              "min       3.000000\n",
              "10%       4.200000\n",
              "20%       5.400000\n",
              "50%       9.000000\n",
              "max      11.000000\n",
              "Name: Counts, dtype: float64"
            ]
          },
          "metadata": {},
          "execution_count": 69
        }
      ]
    },
    {
      "cell_type": "code",
      "source": [
        "\"\"\"\n",
        "The series also has methods to find the minimum and maximum for the\n",
        "values, .min and .max. In addition, there are methods to get the index\n",
        "location of the minimum and maximum index labels, .idxmin and\n",
        ".idxmax:\n",
        "\n",
        "\"\"\"\n",
        "songs_66.min()"
      ],
      "metadata": {
        "colab": {
          "base_uri": "https://localhost:8080/"
        },
        "id": "mhwGucHoAzYn",
        "outputId": "b794da60-3586-4784-9b22-0668c7adf281"
      },
      "execution_count": 70,
      "outputs": [
        {
          "output_type": "execute_result",
          "data": {
            "text/plain": [
              "3.0"
            ]
          },
          "metadata": {},
          "execution_count": 70
        }
      ]
    },
    {
      "cell_type": "code",
      "source": [
        "songs_66.idxmin()"
      ],
      "metadata": {
        "colab": {
          "base_uri": "https://localhost:8080/",
          "height": 36
        },
        "id": "VUHKksH7A_2i",
        "outputId": "457609fe-d780-4b8d-ced7-9e0680a7bef2"
      },
      "execution_count": 71,
      "outputs": [
        {
          "output_type": "execute_result",
          "data": {
            "text/plain": [
              "'George'"
            ],
            "application/vnd.google.colaboratory.intrinsic+json": {
              "type": "string"
            }
          },
          "metadata": {},
          "execution_count": 71
        }
      ]
    },
    {
      "cell_type": "code",
      "source": [
        "songs_66.max()"
      ],
      "metadata": {
        "colab": {
          "base_uri": "https://localhost:8080/"
        },
        "id": "hcl5w0JXBGId",
        "outputId": "90b45384-43a3-4dd2-fa17-1bf728586347"
      },
      "execution_count": 72,
      "outputs": [
        {
          "output_type": "execute_result",
          "data": {
            "text/plain": [
              "11.0"
            ]
          },
          "metadata": {},
          "execution_count": 72
        }
      ]
    },
    {
      "cell_type": "code",
      "source": [
        "songs_66.idxmax()"
      ],
      "metadata": {
        "colab": {
          "base_uri": "https://localhost:8080/",
          "height": 36
        },
        "id": "LfBQlXn-BGOz",
        "outputId": "cc9aa65b-d6a6-4561-f81a-39f4bc8da53a"
      },
      "execution_count": 73,
      "outputs": [
        {
          "output_type": "execute_result",
          "data": {
            "text/plain": [
              "'John'"
            ],
            "application/vnd.google.colaboratory.intrinsic+json": {
              "type": "string"
            }
          },
          "metadata": {},
          "execution_count": 73
        }
      ]
    },
    {
      "cell_type": "code",
      "source": [
        "# Variance\n",
        "songs_66.var()"
      ],
      "metadata": {
        "colab": {
          "base_uri": "https://localhost:8080/"
        },
        "id": "E0Wivp8fBGbd",
        "outputId": "c04ca4df-9f9d-48e5-d738-9f20b5b74353"
      },
      "execution_count": 74,
      "outputs": [
        {
          "output_type": "execute_result",
          "data": {
            "text/plain": [
              "17.333333333333336"
            ]
          },
          "metadata": {},
          "execution_count": 74
        }
      ]
    },
    {
      "cell_type": "code",
      "source": [
        "# standard deviation\n",
        "songs_66.std()"
      ],
      "metadata": {
        "colab": {
          "base_uri": "https://localhost:8080/"
        },
        "id": "RPnQIZWeBdqL",
        "outputId": "231b152c-a082-4a70-a869-5d48323e084c"
      },
      "execution_count": 75,
      "outputs": [
        {
          "output_type": "execute_result",
          "data": {
            "text/plain": [
              "4.163331998932266"
            ]
          },
          "metadata": {},
          "execution_count": 75
        }
      ]
    },
    {
      "cell_type": "code",
      "source": [
        "# mean absolute deviation\n",
        "songs_66.mad()"
      ],
      "metadata": {
        "colab": {
          "base_uri": "https://localhost:8080/"
        },
        "id": "yedRwj_EBGea",
        "outputId": "80437ecf-648e-44c0-a39d-4f7996bca820"
      },
      "execution_count": 76,
      "outputs": [
        {
          "output_type": "stream",
          "name": "stderr",
          "text": [
            "<ipython-input-76-91256c111dc0>:2: FutureWarning: The 'mad' method is deprecated and will be removed in a future version. To compute the same result, you may do `(df - df.mean()).abs().mean()`.\n",
            "  songs_66.mad()\n"
          ]
        },
        {
          "output_type": "execute_result",
          "data": {
            "text/plain": [
              "3.1111111111111107"
            ]
          },
          "metadata": {},
          "execution_count": 76
        }
      ]
    },
    {
      "cell_type": "code",
      "source": [
        "\"\"\"\n",
        "Skew is a summary statistic that measures how the tails behave. A\n",
        "normal distribution should have a skew around 0. A negative skew\n",
        "indicates that the left tail is longer, whereas a positive skew indicates that\n",
        "the right tail is longer. Below is a plot of the histogram:\n",
        "\n",
        "\"\"\"\n",
        "import matplotlib.pyplot as plt\n",
        "fig = plt.figure()\n",
        "ax = fig.add_subplot(111)\n",
        "songs_66.hist(ax=ax)\n",
        "fig.savefig('/tmp/song-hist.png')\n"
      ],
      "metadata": {
        "colab": {
          "base_uri": "https://localhost:8080/",
          "height": 430
        },
        "id": "m4xXZgSdIJ3O",
        "outputId": "92656f8a-00e9-42ea-e68a-59f85a8967b1"
      },
      "execution_count": 77,
      "outputs": [
        {
          "output_type": "display_data",
          "data": {
            "text/plain": [
              "<Figure size 640x480 with 1 Axes>"
            ],
            "image/png": "[encoded data removed]"
          },
          "metadata": {}
        }
      ]
    },
    {
      "cell_type": "code",
      "source": [
        "songs_66.skew()"
      ],
      "metadata": {
        "colab": {
          "base_uri": "https://localhost:8080/"
        },
        "id": "EETNtyQ4IwIR",
        "outputId": "7b3d97ca-0cfe-4478-ba35-1e0dad686ada"
      },
      "execution_count": 78,
      "outputs": [
        {
          "output_type": "execute_result",
          "data": {
            "text/plain": [
              "-1.293342780733397"
            ]
          },
          "metadata": {},
          "execution_count": 78
        }
      ]
    },
    {
      "cell_type": "code",
      "source": [
        "\"\"\"\n",
        "Kurtosis is a summary measure that describes how narrow the “peak” of\n",
        "is distribution is. The larger the number, the narrower the peak is.\n",
        "Normally, this value is reported alongside skew. The .kurt method returns\n",
        "nan if there are fewer than four numbers:\n",
        "\n",
        "\"\"\"\n",
        "songs_66.kurt()"
      ],
      "metadata": {
        "colab": {
          "base_uri": "https://localhost:8080/"
        },
        "id": "j1nFlvvlIJ5b",
        "outputId": "a24a05c4-40da-4ae4-965c-24f1d6c22b6e"
      },
      "execution_count": 79,
      "outputs": [
        {
          "output_type": "execute_result",
          "data": {
            "text/plain": [
              "nan"
            ]
          },
          "metadata": {},
          "execution_count": 79
        }
      ]
    },
    {
      "cell_type": "code",
      "source": [
        "songs_69 = pd.Series([18, 22, 7, 5],\n",
        "                      index=[ 'John', 'Paul', 'George', 'Ringo'],\n",
        "                      name='Counts')\n"
      ],
      "metadata": {
        "id": "S8AdwQPBIJ-n"
      },
      "execution_count": 80,
      "outputs": []
    },
    {
      "cell_type": "code",
      "source": [
        "\"\"\"\n",
        "Covariance is a measure of how two variables change together. If they\n",
        "tend to increase together, it will be positive. If one tends to decrease while\n",
        "the other increases, it will be negative:\n",
        "\n",
        "\"\"\"\n",
        "songs_66.cov(songs_69)"
      ],
      "metadata": {
        "colab": {
          "base_uri": "https://localhost:8080/"
        },
        "id": "duZd58t0IJ79",
        "outputId": "1401f807-b0b1-4384-b2bb-2c2f8c0c2314"
      },
      "execution_count": 81,
      "outputs": [
        {
          "output_type": "execute_result",
          "data": {
            "text/plain": [
              "28.333333333333332"
            ]
          },
          "metadata": {},
          "execution_count": 81
        }
      ]
    },
    {
      "cell_type": "code",
      "source": [
        "\"\"\"\n",
        "When the covariance is normalized (by dividing by the standard\n",
        "deviations of both series), it is called the correlation coefficient. The .corr\n",
        "method gives the Pearson Correlation Coefficient. This value is a number\n",
        "from -1 to 1. The more positive this value is, the greater the correlation.\n",
        "The more negative it is, the greater the inverse correlation. A value of zero\n",
        "indicates no correlation:\n",
        "\n",
        "\"\"\"\n",
        "songs_66.corr(songs_69)"
      ],
      "metadata": {
        "colab": {
          "base_uri": "https://localhost:8080/"
        },
        "id": "5UzRdTcYIKB-",
        "outputId": "d9786d8c-882b-481f-ed67-a0a8e8080b9d"
      },
      "execution_count": 82,
      "outputs": [
        {
          "output_type": "execute_result",
          "data": {
            "text/plain": [
              "0.8761489936497804"
            ]
          },
          "metadata": {},
          "execution_count": 82
        }
      ]
    },
    {
      "cell_type": "code",
      "source": [
        "\"\"\"\n",
        "The autocorrelation measure describes the correlation of a series with\n",
        "itself shifted one position. 1 indicates perfect correlation, and -1 indicates\n",
        "anti-correlation. Here is another case where the sample size is small, so\n",
        "take these with a grain of salt. Note that .autocorr does not ignore NaN\n",
        "by default:\n",
        "\n",
        "\"\"\"\n",
        "songs_66.autocorr()"
      ],
      "metadata": {
        "colab": {
          "base_uri": "https://localhost:8080/"
        },
        "id": "zU1baBDnOu0y",
        "outputId": "033c58f9-7af2-4e19-d541-da2eaa1c0f16"
      },
      "execution_count": 83,
      "outputs": [
        {
          "output_type": "stream",
          "name": "stderr",
          "text": [
            "/usr/local/lib/python3.10/dist-packages/numpy/lib/function_base.py:2889: RuntimeWarning: Degrees of freedom <= 0 for slice\n",
            "  c = cov(x, y, rowvar, dtype=dtype)\n",
            "/usr/local/lib/python3.10/dist-packages/numpy/lib/function_base.py:2748: RuntimeWarning: divide by zero encountered in divide\n",
            "  c *= np.true_divide(1, fact)\n"
          ]
        },
        {
          "output_type": "execute_result",
          "data": {
            "text/plain": [
              "nan"
            ]
          },
          "metadata": {},
          "execution_count": 83
        }
      ]
    },
    {
      "cell_type": "code",
      "source": [
        "songs_66.dropna().autocorr()"
      ],
      "metadata": {
        "colab": {
          "base_uri": "https://localhost:8080/"
        },
        "id": "CTHecxpXPJRi",
        "outputId": "016aaa90-3120-46dd-f9c8-7eb2676b79ef"
      },
      "execution_count": 84,
      "outputs": [
        {
          "output_type": "execute_result",
          "data": {
            "text/plain": [
              "-0.9999999999999999"
            ]
          },
          "metadata": {},
          "execution_count": 84
        }
      ]
    },
    {
      "cell_type": "markdown",
      "source": [
        "## Convert **Types**"
      ],
      "metadata": {
        "id": "1kJpXq7rQ0jo"
      }
    },
    {
      "cell_type": "code",
      "source": [
        "songs_66.round()"
      ],
      "metadata": {
        "colab": {
          "base_uri": "https://localhost:8080/"
        },
        "id": "lE7J7LhSPCRX",
        "outputId": "2196139b-b01f-4935-d0f0-13a203a87381"
      },
      "execution_count": 85,
      "outputs": [
        {
          "output_type": "execute_result",
          "data": {
            "text/plain": [
              "George     3.0\n",
              "Ringo      NaN\n",
              "John      11.0\n",
              "Paul       9.0\n",
              "Name: Counts, dtype: float64"
            ]
          },
          "metadata": {},
          "execution_count": 85
        }
      ]
    },
    {
      "cell_type": "code",
      "source": [
        "\"\"\"\n",
        "Note that even though the value is rounded, the type is still a float.\n",
        "Numbers can be clipped between lower and upper thresholds using the\n",
        ".clip method. This method does not change the type either:\n",
        "\n",
        "\"\"\"\n",
        "songs_66.clip(lower=80, upper = 90)"
      ],
      "metadata": {
        "colab": {
          "base_uri": "https://localhost:8080/"
        },
        "id": "iy1Qpy7NO8UI",
        "outputId": "bc40abfa-8aa2-4f39-fb05-45301792ef81"
      },
      "execution_count": 86,
      "outputs": [
        {
          "output_type": "execute_result",
          "data": {
            "text/plain": [
              "George    80.0\n",
              "Ringo      NaN\n",
              "John      80.0\n",
              "Paul      80.0\n",
              "Name: Counts, dtype: float64"
            ]
          },
          "metadata": {},
          "execution_count": 86
        }
      ]
    },
    {
      "cell_type": "code",
      "source": [
        "\"\"\"\n",
        "The .astype method attempts to convert values to the type passed in. In\n",
        "the instance below, the float values are being converted to strings. To the\n",
        "unwary, there does not appear to be much change other than the dtype\n",
        "changing to object:\n",
        "\"\"\"\n",
        "songs_66.astype(str)"
      ],
      "metadata": {
        "colab": {
          "base_uri": "https://localhost:8080/"
        },
        "id": "QMwiULqGOu29",
        "outputId": "18e5eb75-4efb-47fc-d158-7811112fa8b7"
      },
      "execution_count": 87,
      "outputs": [
        {
          "output_type": "execute_result",
          "data": {
            "text/plain": [
              "George     3.0\n",
              "Ringo      nan\n",
              "John      11.0\n",
              "Paul       9.0\n",
              "Name: Counts, dtype: object"
            ]
          },
          "metadata": {},
          "execution_count": 87
        }
      ]
    },
    {
      "cell_type": "code",
      "source": [
        "\"\"\"\n",
        "But, if a method is invoked on the converted string values, the result\n",
        "might not be the desired output. In this case .max now returns the\n",
        "lexicographic maximum:\n",
        "\"\"\"\n",
        "songs_66.astype(str).max()"
      ],
      "metadata": {
        "colab": {
          "base_uri": "https://localhost:8080/",
          "height": 36
        },
        "id": "t47vzDVOOu5j",
        "outputId": "51bc676b-bb7d-47e9-e463-d641ec9e6c69"
      },
      "execution_count": 88,
      "outputs": [
        {
          "output_type": "execute_result",
          "data": {
            "text/plain": [
              "'nan'"
            ],
            "application/vnd.google.colaboratory.intrinsic+json": {
              "type": "string"
            }
          },
          "metadata": {},
          "execution_count": 88
        }
      ]
    },
    {
      "cell_type": "code",
      "source": [
        "\"\"\"\n",
        "By default, the to_* functions will raise an error if they cannot coerce.\n",
        "In the case below, the to_numeric function cannot convert nan to a float.\n",
        "This is slightly annoying:\n",
        "\n",
        "\"\"\"\n",
        "pd.to_numeric(songs_66.apply(str))"
      ],
      "metadata": {
        "id": "Bl2zvJ98Ou74"
      },
      "execution_count": null,
      "outputs": []
    },
    {
      "cell_type": "code",
      "source": [
        "\"\"\"\n",
        "Luckily, the to_numeric function has an errors parameter, that when\n",
        "passed 'coerce' will fill in with NaN if it cannot coerce:\n",
        "\n",
        "\"\"\"\n",
        "pd.to_numeric(songs_66.apply(str), errors= 'coerce')"
      ],
      "metadata": {
        "colab": {
          "base_uri": "https://localhost:8080/"
        },
        "id": "Ll701hs9Ou-R",
        "outputId": "9909ee8c-1f99-4295-9cf6-d6164f3798b0"
      },
      "execution_count": 90,
      "outputs": [
        {
          "output_type": "execute_result",
          "data": {
            "text/plain": [
              "George     3.0\n",
              "Ringo      NaN\n",
              "John      11.0\n",
              "Paul       9.0\n",
              "Name: Counts, dtype: float64"
            ]
          },
          "metadata": {},
          "execution_count": 90
        }
      ]
    },
    {
      "cell_type": "code",
      "source": [
        "\"\"\"\n",
        "The to_datetime function also behaves similarly, and also raises errors\n",
        "when it fails to coerce:\n",
        "\"\"\"\n",
        "pd.to_datetime(pd.Series(['Sep 7, 2001',\n",
        "                      '9/8/2001', '9-9-2001', '10th of September 2001',\n",
        "                      'Once de Septiembre 2001']))"
      ],
      "metadata": {
        "id": "EDi3x4J4OvCZ"
      },
      "execution_count": null,
      "outputs": []
    },
    {
      "cell_type": "code",
      "source": [
        "\"\"\"\n",
        "If we pass errors='coerce', we can see that it supports many formats\n",
        "if, but not Spanish:\n",
        "\n",
        "\"\"\"\n",
        "\n",
        "pd.to_datetime(pd.Series(['Sep 7, 2001',\n",
        "                      '9/8/2001', '9-9-2001', '10th of September 2001',\n",
        "                      'Once de Septiembre 2001']),\n",
        "           errors='coerce')"
      ],
      "metadata": {
        "colab": {
          "base_uri": "https://localhost:8080/"
        },
        "id": "4mbnCfG7YThb",
        "outputId": "826b9df8-6647-40a9-864d-7a56c33287a7"
      },
      "execution_count": 92,
      "outputs": [
        {
          "output_type": "execute_result",
          "data": {
            "text/plain": [
              "0   2001-09-07\n",
              "1   2001-09-08\n",
              "2   2001-09-09\n",
              "3   2001-09-10\n",
              "4          NaT\n",
              "dtype: datetime64[ns]"
            ]
          },
          "metadata": {},
          "execution_count": 92
        }
      ]
    },
    {
      "cell_type": "markdown",
      "source": [
        "## **Dealing with None**"
      ],
      "metadata": {
        "id": "l-2HvxeZYrE7"
      }
    },
    {
      "cell_type": "code",
      "source": [
        "\"\"\"\n",
        "The\n",
        ".fillna method will replace them with a given value, -1 in this case:\n",
        "\"\"\"\n",
        "songs_66.fillna(-1)"
      ],
      "metadata": {
        "colab": {
          "base_uri": "https://localhost:8080/"
        },
        "id": "V1ICi51XYTjz",
        "outputId": "a935a2a8-1036-45a4-d9c0-ef245bd421cc"
      },
      "execution_count": 93,
      "outputs": [
        {
          "output_type": "execute_result",
          "data": {
            "text/plain": [
              "George     3.0\n",
              "Ringo     -1.0\n",
              "John      11.0\n",
              "Paul       9.0\n",
              "Name: Counts, dtype: float64"
            ]
          },
          "metadata": {},
          "execution_count": 93
        }
      ]
    },
    {
      "cell_type": "code",
      "source": [
        "# NaN values can be dropped from the series using .dropna:\n",
        "songs_66.dropna()"
      ],
      "metadata": {
        "colab": {
          "base_uri": "https://localhost:8080/"
        },
        "id": "tm14E6LPYTmT",
        "outputId": "80242c45-f8fa-49e7-eb94-5d5ca31c7d35"
      },
      "execution_count": 94,
      "outputs": [
        {
          "output_type": "execute_result",
          "data": {
            "text/plain": [
              "George     3.0\n",
              "John      11.0\n",
              "Paul       9.0\n",
              "Name: Counts, dtype: float64"
            ]
          },
          "metadata": {},
          "execution_count": 94
        }
      ]
    },
    {
      "cell_type": "markdown",
      "source": [
        "## **Matrix Operations**"
      ],
      "metadata": {
        "id": "x77JMOvaegac"
      }
    },
    {
      "cell_type": "code",
      "source": [
        "\"\"\"\n",
        "Computing the dot product is available through the .dot method. But, this\n",
        "method fails if NaN is part of the series:\n",
        "\n",
        "\"\"\"\n",
        "songs_66.dot(songs_69)"
      ],
      "metadata": {
        "colab": {
          "base_uri": "https://localhost:8080/"
        },
        "id": "fDUxPbmVZQdI",
        "outputId": "fed0e44d-eb23-4859-c9a0-34432e35d0fd"
      },
      "execution_count": 96,
      "outputs": [
        {
          "output_type": "execute_result",
          "data": {
            "text/plain": [
              "nan"
            ]
          },
          "metadata": {},
          "execution_count": 96
        }
      ]
    },
    {
      "cell_type": "code",
      "source": [
        "songs_66.dropna().dot(songs_66.dropna())"
      ],
      "metadata": {
        "colab": {
          "base_uri": "https://localhost:8080/"
        },
        "id": "PdrgFwHvYTop",
        "outputId": "19d02502-856a-42c5-d634-5912fa6a96b2"
      },
      "execution_count": 97,
      "outputs": [
        {
          "output_type": "execute_result",
          "data": {
            "text/plain": [
              "211.0"
            ]
          },
          "metadata": {},
          "execution_count": 97
        }
      ]
    },
    {
      "cell_type": "code",
      "source": [
        "\"\"\"\n",
        "A series also has a .transpose method (alternatively invoked as the T\n",
        "property) that is actually a no-op and just returns the series. (In the two\n",
        "dimensional data frame, the columns and rows are transposed):\n",
        "\n",
        "\"\"\"\n",
        "songs_66.T"
      ],
      "metadata": {
        "colab": {
          "base_uri": "https://localhost:8080/"
        },
        "id": "mWI67_bMYTsG",
        "outputId": "df3af8f4-dae9-4050-a955-577af78c2b2b"
      },
      "execution_count": 98,
      "outputs": [
        {
          "output_type": "execute_result",
          "data": {
            "text/plain": [
              "George     3.0\n",
              "Ringo      NaN\n",
              "John      11.0\n",
              "Paul       9.0\n",
              "Name: Counts, dtype: float64"
            ]
          },
          "metadata": {},
          "execution_count": 98
        }
      ]
    },
    {
      "cell_type": "markdown",
      "source": [
        "## Append, combining, and joining two series"
      ],
      "metadata": {
        "id": "B723PUt9W2iG"
      }
    },
    {
      "cell_type": "code",
      "source": [
        "\"\"\"\n",
        "To concatenate two series together, simply use the pd.concat method.\n",
        "Unlike the .append method of a Python list which takes a single item to be\n",
        "appended to the list, this method takes another Series object as its’\n",
        "parameter:\n",
        "\"\"\"\n",
        "concatenated = pd.concat([songs_66,songs_69])\n",
        "concatenated"
      ],
      "metadata": {
        "id": "-giie7ssW-_j"
      },
      "execution_count": null,
      "outputs": []
    },
    {
      "cell_type": "code",
      "source": [
        "\"\"\"\n",
        "The .append method will create duplicate indexes by default (as seen by\n",
        "the multiple entries for Paul above). .append has an optional parameter,\n",
        "verify_integrity, which when set to True to complain if index values\n",
        "are duplicated:\n",
        "\n",
        "\"\"\"\n",
        "songs_66.append(songs_69, verify_integrity= True)\n",
        "\n",
        "\n"
      ],
      "metadata": {
        "id": "Io-MDT32XzKB"
      },
      "execution_count": null,
      "outputs": []
    },
    {
      "cell_type": "code",
      "source": [
        "\"\"\"\n",
        "To perform element-wise operations on series, use the .combine\n",
        "method. It takes another series, and a function as its’ parameters. The\n",
        "61\n",
        "function should accept two parameters and perform a reduction on them.\n",
        "Below is one way to compute the average of two series using .combine:\n",
        "\"\"\"\n",
        "def avg(v1, v2):\n",
        "  return (v1 + v2) /2.0\n",
        "songs_66.combine(songs_69, avg)"
      ],
      "metadata": {
        "colab": {
          "base_uri": "https://localhost:8080/"
        },
        "id": "SAkfmC7ibeIv",
        "outputId": "4d2ae0c7-f87c-4a27-c6b6-cda2af569c40"
      },
      "execution_count": 103,
      "outputs": [
        {
          "output_type": "execute_result",
          "data": {
            "text/plain": [
              "George     5.0\n",
              "John      14.5\n",
              "Paul      15.5\n",
              "Ringo      NaN\n",
              "Name: Counts, dtype: float64"
            ]
          },
          "metadata": {},
          "execution_count": 103
        }
      ]
    }
  ]
}