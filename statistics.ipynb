{
  "nbformat": 4,
  "nbformat_minor": 0,
  "metadata": {
    "colab": {
      "provenance": [],
      "mount_file_id": "1yesu_857qmg0-kO6Lv5stwiN1s8jUVjl",
      "authorship_tag": "ABX9TyOwFQIjuoLIgxICxU5l1kuP",
      "include_colab_link": true
    },
    "kernelspec": {
      "name": "python3",
      "display_name": "Python 3"
    },
    "language_info": {
      "name": "python"
    }
  },
  "cells": [
    {
      "cell_type": "markdown",
      "metadata": {
        "id": "view-in-github",
        "colab_type": "text"
      },
      "source": [
        "<a href=\"https://colab.research.google.com/github/owaisahmad315/pandas/blob/main/statistics.ipynb\" target=\"_parent\"><img src=\"https://colab.research.google.com/assets/colab-badge.svg\" alt=\"Open In Colab\"/></a>"
      ]
    },
    {
      "cell_type": "code",
      "source": [
        "import pandas as pd\n",
        "\n"
      ],
      "metadata": {
        "id": "rLsaUbay85zd"
      },
      "execution_count": 1,
      "outputs": []
    },
    {
      "cell_type": "code",
      "execution_count": 2,
      "metadata": {
        "colab": {
          "base_uri": "https://localhost:8080/"
        },
        "id": "qL__g6Nz8bJT",
        "outputId": "fe3e4de6-3fc0-425d-eed0-134bd2c1d0ef"
      },
      "outputs": [
        {
          "output_type": "execute_result",
          "data": {
            "text/plain": [
              "George     3.0\n",
              "Ringo      NaN\n",
              "John      11.0\n",
              "Paul       9.0\n",
              "Name: Counts, dtype: float64"
            ]
          },
          "metadata": {},
          "execution_count": 2
        }
      ],
      "source": [
        "songs_66 = pd.Series([3, None , 11, 9],\n",
        "                     index=['George', 'Ringo', 'John', 'Paul'],\n",
        "                    name='Counts')\n",
        "songs_66\n"
      ]
    },
    {
      "cell_type": "code",
      "source": [
        "# One of the most basic measurements is the sum of the values in a series:\n",
        "songs_66.sum()"
      ],
      "metadata": {
        "colab": {
          "base_uri": "https://localhost:8080/"
        },
        "id": "vHZwDGnB9MVC",
        "outputId": "e8af5976-aad4-4497-a602-48390c619794"
      },
      "execution_count": 3,
      "outputs": [
        {
          "output_type": "execute_result",
          "data": {
            "text/plain": [
              "23.0"
            ]
          },
          "metadata": {},
          "execution_count": 3
        }
      ]
    },
    {
      "cell_type": "code",
      "source": [
        "songs_66.mean()"
      ],
      "metadata": {
        "colab": {
          "base_uri": "https://localhost:8080/"
        },
        "id": "7GQI__Mj9c0K",
        "outputId": "e8f8b0ef-a73a-4692-c958-e886c6f44697"
      },
      "execution_count": 4,
      "outputs": [
        {
          "output_type": "execute_result",
          "data": {
            "text/plain": [
              "7.666666666666667"
            ]
          },
          "metadata": {},
          "execution_count": 4
        }
      ]
    },
    {
      "cell_type": "code",
      "source": [
        "songs_66.median()"
      ],
      "metadata": {
        "colab": {
          "base_uri": "https://localhost:8080/"
        },
        "id": "xGY_MmbZ9f4B",
        "outputId": "fe35ac77-f5ec-469e-9b3e-24033b1b2371"
      },
      "execution_count": 5,
      "outputs": [
        {
          "output_type": "execute_result",
          "data": {
            "text/plain": [
              "9.0"
            ]
          },
          "metadata": {},
          "execution_count": 5
        }
      ]
    },
    {
      "cell_type": "code",
      "source": [
        "songs_66.quantile()"
      ],
      "metadata": {
        "colab": {
          "base_uri": "https://localhost:8080/"
        },
        "id": "bPocM0xN9rOK",
        "outputId": "115b30cc-1ca8-4266-eb07-ac20fd6472a3"
      },
      "execution_count": 6,
      "outputs": [
        {
          "output_type": "execute_result",
          "data": {
            "text/plain": [
              "9.0"
            ]
          },
          "metadata": {},
          "execution_count": 6
        }
      ]
    },
    {
      "cell_type": "code",
      "source": [
        "songs_66.quantile(.1)"
      ],
      "metadata": {
        "colab": {
          "base_uri": "https://localhost:8080/"
        },
        "id": "Q94b-Y-R9ywg",
        "outputId": "1563ed03-349e-4073-c3d5-6b789bb8c72b"
      },
      "execution_count": 7,
      "outputs": [
        {
          "output_type": "execute_result",
          "data": {
            "text/plain": [
              "4.2"
            ]
          },
          "metadata": {},
          "execution_count": 7
        }
      ]
    },
    {
      "cell_type": "code",
      "source": [
        "songs_66.quantile(.9)"
      ],
      "metadata": {
        "colab": {
          "base_uri": "https://localhost:8080/"
        },
        "id": "BO1V5NhX930C",
        "outputId": "e40bb8a9-9e53-403b-95c5-664db151da51"
      },
      "execution_count": 8,
      "outputs": [
        {
          "output_type": "execute_result",
          "data": {
            "text/plain": [
              "10.6"
            ]
          },
          "metadata": {},
          "execution_count": 8
        }
      ]
    },
    {
      "cell_type": "code",
      "source": [
        "\"\"\"\n",
        "To get a good overall feel for the series, the .describe method presents\n",
        "a good number of summary statistics and returns the result as a series. It\n",
        "includes the count of values, their mean, standard deviation, minimum and\n",
        "maximum values, and the 25%, 50%, and 75% quantiles:\n",
        "\"\"\"\n",
        "\n",
        "songs_66.describe()"
      ],
      "metadata": {
        "colab": {
          "base_uri": "https://localhost:8080/"
        },
        "id": "NwRVXNjeAN_O",
        "outputId": "bb93b35c-3085-45c5-bbe9-37476dd077ce"
      },
      "execution_count": 9,
      "outputs": [
        {
          "output_type": "execute_result",
          "data": {
            "text/plain": [
              "count     3.000000\n",
              "mean      7.666667\n",
              "std       4.163332\n",
              "min       3.000000\n",
              "25%       6.000000\n",
              "50%       9.000000\n",
              "75%      10.000000\n",
              "max      11.000000\n",
              "Name: Counts, dtype: float64"
            ]
          },
          "metadata": {},
          "execution_count": 9
        }
      ]
    },
    {
      "cell_type": "code",
      "source": [
        "\"\"\"\n",
        "You can pass in specific percentiles if you so desire with the\n",
        "percentiles parameter:\n",
        "\"\"\"\n",
        "songs_66.describe(percentiles= [0.5, .1, .2])"
      ],
      "metadata": {
        "colab": {
          "base_uri": "https://localhost:8080/"
        },
        "id": "4KwSJi5LAcfb",
        "outputId": "325a6d47-0aa1-4b40-f434-22b920c5f82c"
      },
      "execution_count": 10,
      "outputs": [
        {
          "output_type": "execute_result",
          "data": {
            "text/plain": [
              "count     3.000000\n",
              "mean      7.666667\n",
              "std       4.163332\n",
              "min       3.000000\n",
              "10%       4.200000\n",
              "20%       5.400000\n",
              "50%       9.000000\n",
              "max      11.000000\n",
              "Name: Counts, dtype: float64"
            ]
          },
          "metadata": {},
          "execution_count": 10
        }
      ]
    },
    {
      "cell_type": "code",
      "source": [
        "\"\"\"\n",
        "The series also has methods to find the minimum and maximum for the\n",
        "values, .min and .max. In addition, there are methods to get the index\n",
        "location of the minimum and maximum index labels, .idxmin and\n",
        ".idxmax:\n",
        "\n",
        "\"\"\"\n",
        "songs_66.min()"
      ],
      "metadata": {
        "colab": {
          "base_uri": "https://localhost:8080/"
        },
        "id": "mhwGucHoAzYn",
        "outputId": "74b8043e-375c-4508-bdf6-6b829004e169"
      },
      "execution_count": 11,
      "outputs": [
        {
          "output_type": "execute_result",
          "data": {
            "text/plain": [
              "3.0"
            ]
          },
          "metadata": {},
          "execution_count": 11
        }
      ]
    },
    {
      "cell_type": "code",
      "source": [
        "songs_66.idxmin()"
      ],
      "metadata": {
        "colab": {
          "base_uri": "https://localhost:8080/",
          "height": 36
        },
        "id": "VUHKksH7A_2i",
        "outputId": "db26d95c-cf84-4019-c6fd-0ea8d8f4a7c3"
      },
      "execution_count": 12,
      "outputs": [
        {
          "output_type": "execute_result",
          "data": {
            "text/plain": [
              "'George'"
            ],
            "application/vnd.google.colaboratory.intrinsic+json": {
              "type": "string"
            }
          },
          "metadata": {},
          "execution_count": 12
        }
      ]
    },
    {
      "cell_type": "code",
      "source": [
        "songs_66.max()"
      ],
      "metadata": {
        "colab": {
          "base_uri": "https://localhost:8080/"
        },
        "id": "hcl5w0JXBGId",
        "outputId": "b8867fa7-4a74-4adc-9cb5-81b0942c8fe7"
      },
      "execution_count": 13,
      "outputs": [
        {
          "output_type": "execute_result",
          "data": {
            "text/plain": [
              "11.0"
            ]
          },
          "metadata": {},
          "execution_count": 13
        }
      ]
    },
    {
      "cell_type": "code",
      "source": [
        "songs_66.idxmax()"
      ],
      "metadata": {
        "colab": {
          "base_uri": "https://localhost:8080/",
          "height": 36
        },
        "id": "LfBQlXn-BGOz",
        "outputId": "3800cbc7-8bc7-4a68-a787-bfcac9971ced"
      },
      "execution_count": 14,
      "outputs": [
        {
          "output_type": "execute_result",
          "data": {
            "text/plain": [
              "'John'"
            ],
            "application/vnd.google.colaboratory.intrinsic+json": {
              "type": "string"
            }
          },
          "metadata": {},
          "execution_count": 14
        }
      ]
    },
    {
      "cell_type": "code",
      "source": [
        "# Variance\n",
        "songs_66.var()"
      ],
      "metadata": {
        "colab": {
          "base_uri": "https://localhost:8080/"
        },
        "id": "E0Wivp8fBGbd",
        "outputId": "af599344-4163-4059-e2b9-d0e5c9271e9a"
      },
      "execution_count": 15,
      "outputs": [
        {
          "output_type": "execute_result",
          "data": {
            "text/plain": [
              "17.333333333333336"
            ]
          },
          "metadata": {},
          "execution_count": 15
        }
      ]
    },
    {
      "cell_type": "code",
      "source": [
        "# standard deviation\n",
        "songs_66.std()"
      ],
      "metadata": {
        "colab": {
          "base_uri": "https://localhost:8080/"
        },
        "id": "RPnQIZWeBdqL",
        "outputId": "12c15226-4dc2-483a-f893-189374364a7d"
      },
      "execution_count": 16,
      "outputs": [
        {
          "output_type": "execute_result",
          "data": {
            "text/plain": [
              "4.163331998932266"
            ]
          },
          "metadata": {},
          "execution_count": 16
        }
      ]
    },
    {
      "cell_type": "code",
      "source": [
        "# mean absolute deviation\n",
        "songs_66.mad()"
      ],
      "metadata": {
        "colab": {
          "base_uri": "https://localhost:8080/"
        },
        "id": "yedRwj_EBGea",
        "outputId": "f0badeaa-c532-43d1-8b09-b3a927a41211"
      },
      "execution_count": 17,
      "outputs": [
        {
          "output_type": "stream",
          "name": "stderr",
          "text": [
            "<ipython-input-17-91256c111dc0>:2: FutureWarning: The 'mad' method is deprecated and will be removed in a future version. To compute the same result, you may do `(df - df.mean()).abs().mean()`.\n",
            "  songs_66.mad()\n"
          ]
        },
        {
          "output_type": "execute_result",
          "data": {
            "text/plain": [
              "3.1111111111111107"
            ]
          },
          "metadata": {},
          "execution_count": 17
        }
      ]
    },
    {
      "cell_type": "code",
      "source": [
        "\"\"\"\n",
        "Skew is a summary statistic that measures how the tails behave. A\n",
        "normal distribution should have a skew around 0. A negative skew\n",
        "indicates that the left tail is longer, whereas a positive skew indicates that\n",
        "the right tail is longer. Below is a plot of the histogram:\n",
        "\n",
        "\"\"\"\n",
        "import matplotlib.pyplot as plt\n",
        "fig = plt.figure()\n",
        "ax = fig.add_subplot(111)\n",
        "songs_66.hist(ax=ax)\n",
        "fig.savefig('/tmp/song-hist.png')\n"
      ],
      "metadata": {
        "colab": {
          "base_uri": "https://localhost:8080/",
          "height": 430
        },
        "id": "m4xXZgSdIJ3O",
        "outputId": "6dd2188c-a650-412c-b446-4d10c87af953"
      },
      "execution_count": 18,
      "outputs": [
        {
          "output_type": "display_data",
          "data": {
            "text/plain": [
              "<Figure size 640x480 with 1 Axes>"
            ],
            "image/png": "[encoded data removed]"
          },
          "metadata": {}
        }
      ]
    },
    {
      "cell_type": "code",
      "source": [
        "songs_66.skew()"
      ],
      "metadata": {
        "colab": {
          "base_uri": "https://localhost:8080/"
        },
        "id": "EETNtyQ4IwIR",
        "outputId": "88a393b6-cf52-434e-bcb4-9eb2677f081e"
      },
      "execution_count": 19,
      "outputs": [
        {
          "output_type": "execute_result",
          "data": {
            "text/plain": [
              "-1.293342780733397"
            ]
          },
          "metadata": {},
          "execution_count": 19
        }
      ]
    },
    {
      "cell_type": "code",
      "source": [
        "\"\"\"\n",
        "Kurtosis is a summary measure that describes how narrow the “peak” of\n",
        "is distribution is. The larger the number, the narrower the peak is.\n",
        "Normally, this value is reported alongside skew. The .kurt method returns\n",
        "nan if there are fewer than four numbers:\n",
        "\n",
        "\"\"\"\n",
        "songs_66.kurt()"
      ],
      "metadata": {
        "colab": {
          "base_uri": "https://localhost:8080/"
        },
        "id": "j1nFlvvlIJ5b",
        "outputId": "5a232382-129b-458d-e040-3a21183428f4"
      },
      "execution_count": 20,
      "outputs": [
        {
          "output_type": "execute_result",
          "data": {
            "text/plain": [
              "nan"
            ]
          },
          "metadata": {},
          "execution_count": 20
        }
      ]
    },
    {
      "cell_type": "code",
      "source": [
        "songs_69 = pd.Series([18, 22, 7, 5],\n",
        "                      index=[ 'John', 'Paul', 'George', 'Ringo'],\n",
        "                      name='Counts')\n"
      ],
      "metadata": {
        "id": "S8AdwQPBIJ-n"
      },
      "execution_count": 21,
      "outputs": []
    },
    {
      "cell_type": "code",
      "source": [
        "\"\"\"\n",
        "Covariance is a measure of how two variables change together. If they\n",
        "tend to increase together, it will be positive. If one tends to decrease while\n",
        "the other increases, it will be negative:\n",
        "\n",
        "\"\"\"\n",
        "songs_66.cov(songs_69)"
      ],
      "metadata": {
        "colab": {
          "base_uri": "https://localhost:8080/"
        },
        "id": "duZd58t0IJ79",
        "outputId": "c9a6cdc1-7b14-4b9f-ed27-d2804fdbea3a"
      },
      "execution_count": 22,
      "outputs": [
        {
          "output_type": "execute_result",
          "data": {
            "text/plain": [
              "28.333333333333332"
            ]
          },
          "metadata": {},
          "execution_count": 22
        }
      ]
    },
    {
      "cell_type": "code",
      "source": [
        "\"\"\"\n",
        "When the covariance is normalized (by dividing by the standard\n",
        "deviations of both series), it is called the correlation coefficient. The .corr\n",
        "method gives the Pearson Correlation Coefficient. This value is a number\n",
        "from -1 to 1. The more positive this value is, the greater the correlation.\n",
        "The more negative it is, the greater the inverse correlation. A value of zero\n",
        "indicates no correlation:\n",
        "\n",
        "\"\"\"\n",
        "songs_66.corr(songs_69)"
      ],
      "metadata": {
        "colab": {
          "base_uri": "https://localhost:8080/"
        },
        "id": "5UzRdTcYIKB-",
        "outputId": "9d1c9079-b6a2-431f-9240-9e1430df9612"
      },
      "execution_count": 23,
      "outputs": [
        {
          "output_type": "execute_result",
          "data": {
            "text/plain": [
              "0.8761489936497804"
            ]
          },
          "metadata": {},
          "execution_count": 23
        }
      ]
    },
    {
      "cell_type": "code",
      "source": [
        "\"\"\"\n",
        "The autocorrelation measure describes the correlation of a series with\n",
        "itself shifted one position. 1 indicates perfect correlation, and -1 indicates\n",
        "anti-correlation. Here is another case where the sample size is small, so\n",
        "take these with a grain of salt. Note that .autocorr does not ignore NaN\n",
        "by default:\n",
        "\n",
        "\"\"\"\n",
        "songs_66.autocorr()"
      ],
      "metadata": {
        "colab": {
          "base_uri": "https://localhost:8080/"
        },
        "id": "zU1baBDnOu0y",
        "outputId": "09a621e1-da00-49e3-e714-ce40ff0a25d5"
      },
      "execution_count": 24,
      "outputs": [
        {
          "output_type": "stream",
          "name": "stderr",
          "text": [
            "/usr/local/lib/python3.10/dist-packages/numpy/lib/function_base.py:2889: RuntimeWarning: Degrees of freedom <= 0 for slice\n",
            "  c = cov(x, y, rowvar, dtype=dtype)\n",
            "/usr/local/lib/python3.10/dist-packages/numpy/lib/function_base.py:2748: RuntimeWarning: divide by zero encountered in divide\n",
            "  c *= np.true_divide(1, fact)\n"
          ]
        },
        {
          "output_type": "execute_result",
          "data": {
            "text/plain": [
              "nan"
            ]
          },
          "metadata": {},
          "execution_count": 24
        }
      ]
    },
    {
      "cell_type": "code",
      "source": [
        "songs_66.dropna().autocorr()"
      ],
      "metadata": {
        "colab": {
          "base_uri": "https://localhost:8080/"
        },
        "id": "CTHecxpXPJRi",
        "outputId": "9e041f4e-be0d-44f6-b0b3-cd5115436b9b"
      },
      "execution_count": 25,
      "outputs": [
        {
          "output_type": "execute_result",
          "data": {
            "text/plain": [
              "-0.9999999999999999"
            ]
          },
          "metadata": {},
          "execution_count": 25
        }
      ]
    },
    {
      "cell_type": "markdown",
      "source": [
        "## Convert **Types**"
      ],
      "metadata": {
        "id": "1kJpXq7rQ0jo"
      }
    },
    {
      "cell_type": "code",
      "source": [
        "songs_66.round()"
      ],
      "metadata": {
        "colab": {
          "base_uri": "https://localhost:8080/"
        },
        "id": "lE7J7LhSPCRX",
        "outputId": "f54a0862-af11-4cb1-f49e-796a149259a0"
      },
      "execution_count": 26,
      "outputs": [
        {
          "output_type": "execute_result",
          "data": {
            "text/plain": [
              "George     3.0\n",
              "Ringo      NaN\n",
              "John      11.0\n",
              "Paul       9.0\n",
              "Name: Counts, dtype: float64"
            ]
          },
          "metadata": {},
          "execution_count": 26
        }
      ]
    },
    {
      "cell_type": "code",
      "source": [
        "\"\"\"\n",
        "Note that even though the value is rounded, the type is still a float.\n",
        "Numbers can be clipped between lower and upper thresholds using the\n",
        ".clip method. This method does not change the type either:\n",
        "\n",
        "\"\"\"\n",
        "songs_66.clip(lower=80, upper = 90)"
      ],
      "metadata": {
        "colab": {
          "base_uri": "https://localhost:8080/"
        },
        "id": "iy1Qpy7NO8UI",
        "outputId": "d45f15ca-bd62-404b-c2bc-9380409f91cf"
      },
      "execution_count": 27,
      "outputs": [
        {
          "output_type": "execute_result",
          "data": {
            "text/plain": [
              "George    80.0\n",
              "Ringo      NaN\n",
              "John      80.0\n",
              "Paul      80.0\n",
              "Name: Counts, dtype: float64"
            ]
          },
          "metadata": {},
          "execution_count": 27
        }
      ]
    },
    {
      "cell_type": "code",
      "source": [
        "\"\"\"\n",
        "The .astype method attempts to convert values to the type passed in. In\n",
        "the instance below, the float values are being converted to strings. To the\n",
        "unwary, there does not appear to be much change other than the dtype\n",
        "changing to object:\n",
        "\"\"\"\n",
        "songs_66.astype(str)"
      ],
      "metadata": {
        "colab": {
          "base_uri": "https://localhost:8080/"
        },
        "id": "QMwiULqGOu29",
        "outputId": "d78fb4cf-d5cf-4fa0-c9d5-cbc545474f74"
      },
      "execution_count": 28,
      "outputs": [
        {
          "output_type": "execute_result",
          "data": {
            "text/plain": [
              "George     3.0\n",
              "Ringo      nan\n",
              "John      11.0\n",
              "Paul       9.0\n",
              "Name: Counts, dtype: object"
            ]
          },
          "metadata": {},
          "execution_count": 28
        }
      ]
    },
    {
      "cell_type": "code",
      "source": [
        "\"\"\"\n",
        "But, if a method is invoked on the converted string values, the result\n",
        "might not be the desired output. In this case .max now returns the\n",
        "lexicographic maximum:\n",
        "\"\"\"\n",
        "songs_66.astype(str).max()"
      ],
      "metadata": {
        "colab": {
          "base_uri": "https://localhost:8080/",
          "height": 36
        },
        "id": "t47vzDVOOu5j",
        "outputId": "0057adc5-9f8b-45d5-98db-755e2dd00e3b"
      },
      "execution_count": 29,
      "outputs": [
        {
          "output_type": "execute_result",
          "data": {
            "text/plain": [
              "'nan'"
            ],
            "application/vnd.google.colaboratory.intrinsic+json": {
              "type": "string"
            }
          },
          "metadata": {},
          "execution_count": 29
        }
      ]
    },
    {
      "cell_type": "code",
      "source": [
        "\"\"\"\n",
        "By default, the to_* functions will raise an error if they cannot coerce.\n",
        "In the case below, the to_numeric function cannot convert nan to a float.\n",
        "This is slightly annoying:\n",
        "\n",
        "\"\"\"\n",
        "pd.to_numeric(songs_66.apply(str))"
      ],
      "metadata": {
        "id": "Bl2zvJ98Ou74"
      },
      "execution_count": null,
      "outputs": []
    },
    {
      "cell_type": "code",
      "source": [
        "\"\"\"\n",
        "Luckily, the to_numeric function has an errors parameter, that when\n",
        "passed 'coerce' will fill in with NaN if it cannot coerce:\n",
        "\n",
        "\"\"\"\n",
        "pd.to_numeric(songs_66.apply(str), errors= 'coerce')"
      ],
      "metadata": {
        "colab": {
          "base_uri": "https://localhost:8080/"
        },
        "id": "Ll701hs9Ou-R",
        "outputId": "c9431de2-b960-45af-8dc3-28a5cd18127b"
      },
      "execution_count": 31,
      "outputs": [
        {
          "output_type": "execute_result",
          "data": {
            "text/plain": [
              "George     3.0\n",
              "Ringo      NaN\n",
              "John      11.0\n",
              "Paul       9.0\n",
              "Name: Counts, dtype: float64"
            ]
          },
          "metadata": {},
          "execution_count": 31
        }
      ]
    },
    {
      "cell_type": "code",
      "source": [
        "\"\"\"\n",
        "The to_datetime function also behaves similarly, and also raises errors\n",
        "when it fails to coerce:\n",
        "\"\"\"\n",
        "pd.to_datetime(pd.Series(['Sep 7, 2001',\n",
        "                      '9/8/2001', '9-9-2001', '10th of September 2001',\n",
        "                      'Once de Septiembre 2001']))"
      ],
      "metadata": {
        "id": "EDi3x4J4OvCZ"
      },
      "execution_count": null,
      "outputs": []
    },
    {
      "cell_type": "code",
      "source": [
        "\"\"\"\n",
        "If we pass errors='coerce', we can see that it supports many formats\n",
        "if, but not Spanish:\n",
        "\n",
        "\"\"\"\n",
        "\n",
        "pd.to_datetime(pd.Series(['Sep 7, 2001',\n",
        "                      '9/8/2001', '9-9-2001', '10th of September 2001',\n",
        "                      'Once de Septiembre 2001']),\n",
        "           errors='coerce')"
      ],
      "metadata": {
        "colab": {
          "base_uri": "https://localhost:8080/"
        },
        "id": "4mbnCfG7YThb",
        "outputId": "c7a41405-1a03-48a2-e18a-9ff87e24a953"
      },
      "execution_count": 33,
      "outputs": [
        {
          "output_type": "execute_result",
          "data": {
            "text/plain": [
              "0   2001-09-07\n",
              "1   2001-09-08\n",
              "2   2001-09-09\n",
              "3   2001-09-10\n",
              "4          NaT\n",
              "dtype: datetime64[ns]"
            ]
          },
          "metadata": {},
          "execution_count": 33
        }
      ]
    },
    {
      "cell_type": "markdown",
      "source": [
        "## **Dealing with None**"
      ],
      "metadata": {
        "id": "l-2HvxeZYrE7"
      }
    },
    {
      "cell_type": "code",
      "source": [
        "\"\"\"\n",
        "The\n",
        ".fillna method will replace them with a given value, -1 in this case:\n",
        "\"\"\"\n",
        "songs_66.fillna(-1)"
      ],
      "metadata": {
        "id": "V1ICi51XYTjz"
      },
      "execution_count": null,
      "outputs": []
    },
    {
      "cell_type": "code",
      "source": [
        "# NaN values can be dropped from the series using .dropna:\n",
        "songs_66.dropna()"
      ],
      "metadata": {
        "colab": {
          "base_uri": "https://localhost:8080/"
        },
        "id": "tm14E6LPYTmT",
        "outputId": "4ac409fb-fb49-43ca-9856-5f6d21c33c84"
      },
      "execution_count": 36,
      "outputs": [
        {
          "output_type": "execute_result",
          "data": {
            "text/plain": [
              "George     3.0\n",
              "John      11.0\n",
              "Paul       9.0\n",
              "Name: Counts, dtype: float64"
            ]
          },
          "metadata": {},
          "execution_count": 36
        }
      ]
    },
    {
      "cell_type": "markdown",
      "source": [
        "## **Matrix Operations**"
      ],
      "metadata": {
        "id": "x77JMOvaegac"
      }
    },
    {
      "cell_type": "code",
      "source": [
        "\"\"\"\n",
        "Computing the dot product is available through the .dot method. But, this\n",
        "method fails if NaN is part of the series:\n",
        "\n",
        "\"\"\"\n",
        "songs_66.dot(songs_69)"
      ],
      "metadata": {
        "colab": {
          "base_uri": "https://localhost:8080/"
        },
        "id": "fDUxPbmVZQdI",
        "outputId": "51c3a007-4c77-447b-d4c9-54a3a24a8872"
      },
      "execution_count": 37,
      "outputs": [
        {
          "output_type": "execute_result",
          "data": {
            "text/plain": [
              "nan"
            ]
          },
          "metadata": {},
          "execution_count": 37
        }
      ]
    },
    {
      "cell_type": "code",
      "source": [
        "songs_66.dropna().dot(songs_66.dropna())"
      ],
      "metadata": {
        "colab": {
          "base_uri": "https://localhost:8080/"
        },
        "id": "PdrgFwHvYTop",
        "outputId": "278c5673-de0e-4c93-cfa9-cffc78344a75"
      },
      "execution_count": 38,
      "outputs": [
        {
          "output_type": "execute_result",
          "data": {
            "text/plain": [
              "211.0"
            ]
          },
          "metadata": {},
          "execution_count": 38
        }
      ]
    },
    {
      "cell_type": "code",
      "source": [
        "\"\"\"\n",
        "A series also has a .transpose method (alternatively invoked as the T\n",
        "property) that is actually a no-op and just returns the series. (In the two\n",
        "dimensional data frame, the columns and rows are transposed):\n",
        "\n",
        "\"\"\"\n",
        "songs_66.T"
      ],
      "metadata": {
        "colab": {
          "base_uri": "https://localhost:8080/"
        },
        "id": "mWI67_bMYTsG",
        "outputId": "a65cbb84-38d7-4979-c050-646011e0673e"
      },
      "execution_count": 39,
      "outputs": [
        {
          "output_type": "execute_result",
          "data": {
            "text/plain": [
              "George     3.0\n",
              "Ringo      NaN\n",
              "John      11.0\n",
              "Paul       9.0\n",
              "Name: Counts, dtype: float64"
            ]
          },
          "metadata": {},
          "execution_count": 39
        }
      ]
    },
    {
      "cell_type": "markdown",
      "source": [
        "## Append, combining, and joining two series"
      ],
      "metadata": {
        "id": "B723PUt9W2iG"
      }
    },
    {
      "cell_type": "code",
      "source": [
        "\"\"\"\n",
        "To concatenate two series together, simply use the pd.concat method.\n",
        "Unlike the .append method of a Python list which takes a single item to be\n",
        "appended to the list, this method takes another Series object as its’\n",
        "parameter:\n",
        "\"\"\"\n",
        "concatenated = pd.concat([songs_66,songs_69])\n",
        "concatenated"
      ],
      "metadata": {
        "id": "-giie7ssW-_j",
        "colab": {
          "base_uri": "https://localhost:8080/"
        },
        "outputId": "9c23f4a4-88bb-4a37-b195-fc14e527aef6"
      },
      "execution_count": 40,
      "outputs": [
        {
          "output_type": "execute_result",
          "data": {
            "text/plain": [
              "George     3.0\n",
              "Ringo      NaN\n",
              "John      11.0\n",
              "Paul       9.0\n",
              "John      18.0\n",
              "Paul      22.0\n",
              "George     7.0\n",
              "Ringo      5.0\n",
              "Name: Counts, dtype: float64"
            ]
          },
          "metadata": {},
          "execution_count": 40
        }
      ]
    },
    {
      "cell_type": "code",
      "source": [
        "\"\"\"\n",
        "The .append method will create duplicate indexes by default (as seen by\n",
        "the multiple entries for Paul above). .append has an optional parameter,\n",
        "verify_integrity, which when set to True to complain if index values\n",
        "are duplicated:\n",
        "\n",
        "\"\"\"\n",
        "songs_66.append(songs_69, verify_integrity= True)\n",
        "\n",
        "\n"
      ],
      "metadata": {
        "id": "Io-MDT32XzKB"
      },
      "execution_count": null,
      "outputs": []
    },
    {
      "cell_type": "code",
      "source": [
        "\"\"\"\n",
        "To perform element-wise operations on series, use the .combine\n",
        "method. It takes another series, and a function as its’ parameters. The\n",
        "61\n",
        "function should accept two parameters and perform a reduction on them.\n",
        "Below is one way to compute the average of two series using .combine:\n",
        "\"\"\"\n",
        "def avg(v1, v2):\n",
        "  return (v1 + v2) /2.0\n",
        "songs_66.combine(songs_69, avg)"
      ],
      "metadata": {
        "colab": {
          "base_uri": "https://localhost:8080/"
        },
        "id": "SAkfmC7ibeIv",
        "outputId": "b9147e06-2005-4d64-ed9c-7f46597f12cd"
      },
      "execution_count": 42,
      "outputs": [
        {
          "output_type": "execute_result",
          "data": {
            "text/plain": [
              "George     5.0\n",
              "John      14.5\n",
              "Paul      15.5\n",
              "Ringo      NaN\n",
              "Name: Counts, dtype: float64"
            ]
          },
          "metadata": {},
          "execution_count": 42
        }
      ]
    },
    {
      "cell_type": "code",
      "source": [
        "\"\"\"\n",
        "To update values from one series, use the .update method. It accepts a\n",
        "new series and will return a series that has replaced the values using the\n",
        "passed in series:\n",
        "\"\"\"\n",
        "songs_66.update(songs_69)\n",
        "songs_66"
      ],
      "metadata": {
        "colab": {
          "base_uri": "https://localhost:8080/"
        },
        "id": "6BlNhjPIyjXA",
        "outputId": "16bee8a6-067e-4ff1-f05f-a97a0d5e27fa"
      },
      "execution_count": 43,
      "outputs": [
        {
          "output_type": "execute_result",
          "data": {
            "text/plain": [
              "George     7.0\n",
              "Ringo      5.0\n",
              "John      18.0\n",
              "Paul      22.0\n",
              "Name: Counts, dtype: float64"
            ]
          },
          "metadata": {},
          "execution_count": 43
        }
      ]
    },
    {
      "cell_type": "code",
      "source": [
        "# The .repeat method simply repeats every item a desired amount:\n",
        "songs_66.repeat(2)"
      ],
      "metadata": {
        "colab": {
          "base_uri": "https://localhost:8080/"
        },
        "id": "xRrGPM8ByjZK",
        "outputId": "eb68d5c8-6932-4db6-c854-da060877f4cf"
      },
      "execution_count": 44,
      "outputs": [
        {
          "output_type": "execute_result",
          "data": {
            "text/plain": [
              "George     7.0\n",
              "George     7.0\n",
              "Ringo      5.0\n",
              "Ringo      5.0\n",
              "John      18.0\n",
              "John      18.0\n",
              "Paul      22.0\n",
              "Paul      22.0\n",
              "Name: Counts, dtype: float64"
            ]
          },
          "metadata": {},
          "execution_count": 44
        }
      ]
    },
    {
      "cell_type": "markdown",
      "source": [
        "##Sorting"
      ],
      "metadata": {
        "id": "KN4oQTnMZHFY"
      }
    },
    {
      "cell_type": "code",
      "source": [
        "songs_66"
      ],
      "metadata": {
        "id": "8k5euWrRyjfJ",
        "colab": {
          "base_uri": "https://localhost:8080/"
        },
        "outputId": "3ef0254c-0a25-435d-8cd8-a976e6f34761"
      },
      "execution_count": 45,
      "outputs": [
        {
          "output_type": "execute_result",
          "data": {
            "text/plain": [
              "George     7.0\n",
              "Ringo      5.0\n",
              "John      18.0\n",
              "Paul      22.0\n",
              "Name: Counts, dtype: float64"
            ]
          },
          "metadata": {},
          "execution_count": 45
        }
      ]
    },
    {
      "cell_type": "code",
      "source": [
        "orig = songs_66.copy()\n"
      ],
      "metadata": {
        "id": "Nt9naOFnyjb3"
      },
      "execution_count": 49,
      "outputs": []
    },
    {
      "cell_type": "code",
      "source": [
        "songs_66.sort_values()\n",
        "songs_66"
      ],
      "metadata": {
        "colab": {
          "base_uri": "https://localhost:8080/"
        },
        "id": "1Zwo0lUjaYvN",
        "outputId": "b39c6b94-5233-4a9f-f915-6e0f99fa320c"
      },
      "execution_count": 52,
      "outputs": [
        {
          "output_type": "execute_result",
          "data": {
            "text/plain": [
              "George     7.0\n",
              "Ringo      5.0\n",
              "John      18.0\n",
              "Paul      22.0\n",
              "Name: Counts, dtype: float64"
            ]
          },
          "metadata": {},
          "execution_count": 52
        }
      ]
    },
    {
      "cell_type": "code",
      "source": [
        "orig.sort_values()"
      ],
      "metadata": {
        "colab": {
          "base_uri": "https://localhost:8080/"
        },
        "id": "Fy4j_SClaYxv",
        "outputId": "12fb1808-3396-4deb-ccdc-470cb9e19ca3"
      },
      "execution_count": 53,
      "outputs": [
        {
          "output_type": "execute_result",
          "data": {
            "text/plain": [
              "Ringo      5.0\n",
              "George     7.0\n",
              "John      18.0\n",
              "Paul      22.0\n",
              "Name: Counts, dtype: float64"
            ]
          },
          "metadata": {},
          "execution_count": 53
        }
      ]
    },
    {
      "cell_type": "code",
      "source": [
        "\"\"\"\n",
        "The .sort_index method does not operate in place and returns a new\n",
        "series. It has an optional parameter, ascending that will reverse the index\n",
        "if desired:\n",
        "\"\"\"\n",
        "songs_66.sort_index()"
      ],
      "metadata": {
        "colab": {
          "base_uri": "https://localhost:8080/"
        },
        "id": "DS-eA6YtaY1M",
        "outputId": "2f598cc1-e530-4903-b358-b9d59e456eef"
      },
      "execution_count": 54,
      "outputs": [
        {
          "output_type": "execute_result",
          "data": {
            "text/plain": [
              "George     7.0\n",
              "John      18.0\n",
              "Paul      22.0\n",
              "Ringo      5.0\n",
              "Name: Counts, dtype: float64"
            ]
          },
          "metadata": {},
          "execution_count": 54
        }
      ]
    },
    {
      "cell_type": "code",
      "source": [
        "songs_66.sort_index(ascending = False)"
      ],
      "metadata": {
        "colab": {
          "base_uri": "https://localhost:8080/"
        },
        "id": "XilUD_C0b38m",
        "outputId": "f912dd1e-2847-471d-de6c-52f8d7350a82"
      },
      "execution_count": 57,
      "outputs": [
        {
          "output_type": "execute_result",
          "data": {
            "text/plain": [
              "Ringo      5.0\n",
              "Paul      22.0\n",
              "John      18.0\n",
              "George     7.0\n",
              "Name: Counts, dtype: float64"
            ]
          },
          "metadata": {},
          "execution_count": 57
        }
      ]
    },
    {
      "cell_type": "code",
      "source": [
        "\"\"\"\n",
        "Another useful sorting related method is .rank. This method ranks the\n",
        "index by the values of the entries. It assigns equal weights for ties. It also\n",
        "supports the ascending parameter to reverse the order:\n",
        "\"\"\"\n",
        "songs_66.rank()"
      ],
      "metadata": {
        "colab": {
          "base_uri": "https://localhost:8080/"
        },
        "id": "hzL-A2cpbprH",
        "outputId": "e36dc15d-127b-4d5e-b49a-cdca7b1201dc"
      },
      "execution_count": 58,
      "outputs": [
        {
          "output_type": "execute_result",
          "data": {
            "text/plain": [
              "George    2.0\n",
              "Ringo     1.0\n",
              "John      3.0\n",
              "Paul      4.0\n",
              "Name: Counts, dtype: float64"
            ]
          },
          "metadata": {},
          "execution_count": 58
        }
      ]
    },
    {
      "cell_type": "markdown",
      "source": [
        "##Applying a function"
      ],
      "metadata": {
        "id": "gN5rsb3zf9ij"
      }
    },
    {
      "cell_type": "code",
      "source": [
        "\"\"\"\n",
        "Often the values in a series will need to be altered, cleaned up, checked, or\n",
        "have an arbitrary function applied to them. The .map method applies a\n",
        "function to every item in the series. Below is a function, format, that\n",
        "creates a string that appends song or songs to the number depending on\n",
        "the count:\n",
        "\n",
        "\"\"\"\n",
        "def format(x):\n",
        "  if x == 1:\n",
        "    template = '{} song'\n",
        "  else:\n",
        "    template = '{} songs'\n",
        "  return template.format(x)"
      ],
      "metadata": {
        "id": "ByQS3t4_bpu3"
      },
      "execution_count": 59,
      "outputs": []
    },
    {
      "cell_type": "code",
      "source": [
        "songs_66.map(format)"
      ],
      "metadata": {
        "colab": {
          "base_uri": "https://localhost:8080/"
        },
        "id": "PAsGbbHSb_mR",
        "outputId": "9a1a7c14-fd4d-4d1e-aa2f-a57e0fefbc97"
      },
      "execution_count": 60,
      "outputs": [
        {
          "output_type": "execute_result",
          "data": {
            "text/plain": [
              "George     7.0 songs\n",
              "Ringo      5.0 songs\n",
              "John      18.0 songs\n",
              "Paul      22.0 songs\n",
              "Name: Counts, dtype: object"
            ]
          },
          "metadata": {},
          "execution_count": 60
        }
      ]
    }
  ]
}