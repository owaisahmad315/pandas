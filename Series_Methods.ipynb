{
  "nbformat": 4,
  "nbformat_minor": 0,
  "metadata": {
    "colab": {
      "provenance": [],
      "toc_visible": true,
      "mount_file_id": "1H56Ie5yD3TuWWlRqeQ3oDTF8jAdA-nWo",
      "authorship_tag": "ABX9TyNA+7EbawKuzJp06rkOmpwi",
      "include_colab_link": true
    },
    "kernelspec": {
      "name": "python3",
      "display_name": "Python 3"
    },
    "language_info": {
      "name": "python"
    }
  },
  "cells": [
    {
      "cell_type": "markdown",
      "metadata": {
        "id": "view-in-github",
        "colab_type": "text"
      },
      "source": [
        "<a href=\"https://colab.research.google.com/github/owaisahmad315/pandas/blob/main/Series_Methods.ipynb\" target=\"_parent\"><img src=\"https://colab.research.google.com/assets/colab-badge.svg\" alt=\"Open In Colab\"/></a>"
      ]
    },
    {
      "cell_type": "code",
      "source": [
        "import pandas as pd\n"
      ],
      "metadata": {
        "id": "aJFdAKH00DSh"
      },
      "execution_count": 1,
      "outputs": []
    },
    {
      "cell_type": "code",
      "execution_count": 2,
      "metadata": {
        "id": "-fQcAufty62n"
      },
      "outputs": [],
      "source": [
        "# Series Methods\n",
        "# A SERIES OBJECT HAS MANY ATTRIBUTES AND METHODS THAT ARE USEFUL FOR DATA analysis\n",
        "\n",
        "songs_66 = pd.Series([3, None , 11, 9],\n",
        "                     index =['George', 'Ringo', 'John', 'Paul'],\n",
        "                     name='Counts')"
      ]
    },
    {
      "cell_type": "code",
      "source": [
        "songs_69 = pd.Series([3, 22 , 11, 9],\n",
        "                     index =['John', 'Paul', 'George', 'Ringo'],\n",
        "                     name='Counts')"
      ],
      "metadata": {
        "id": "5QBpJD-70Rix"
      },
      "execution_count": 3,
      "outputs": []
    },
    {
      "cell_type": "code",
      "source": [
        "for values in songs_66:\n",
        "  print(values)"
      ],
      "metadata": {
        "colab": {
          "base_uri": "https://localhost:8080/"
        },
        "id": "dYNWDywA0fKl",
        "outputId": "1b791cd4-7a5a-4de8-eee1-1799f27c05fb"
      },
      "execution_count": 4,
      "outputs": [
        {
          "output_type": "stream",
          "name": "stdout",
          "text": [
            "3.0\n",
            "nan\n",
            "11.0\n",
            "9.0\n"
          ]
        }
      ]
    },
    {
      "cell_type": "code",
      "source": [
        "# There is an .items method to loop over the index, value pairs:\n",
        "for idx, values in songs_66.items():\n",
        "  print(idx, values)"
      ],
      "metadata": {
        "colab": {
          "base_uri": "https://localhost:8080/"
        },
        "id": "Bzszc5VB0oR8",
        "outputId": "b862ab08-195e-44c2-ef35-d96cbeb1eb5a"
      },
      "execution_count": 7,
      "outputs": [
        {
          "output_type": "stream",
          "name": "stdout",
          "text": [
            "George 3.0\n",
            "Ringo nan\n",
            "John 11.0\n",
            "Paul 9.0\n"
          ]
        }
      ]
    }
  ]
}