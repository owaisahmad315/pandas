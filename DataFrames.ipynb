{
  "nbformat": 4,
  "nbformat_minor": 0,
  "metadata": {
    "colab": {
      "provenance": [],
      "mount_file_id": "17hSbJaRMn1HzDVhjzMxFi2oGoKIVb3lG",
      "authorship_tag": "ABX9TyPprMwogQuIsyzbymFvdiNV",
      "include_colab_link": true
    },
    "kernelspec": {
      "name": "python3",
      "display_name": "Python 3"
    },
    "language_info": {
      "name": "python"
    }
  },
  "cells": [
    {
      "cell_type": "markdown",
      "metadata": {
        "id": "view-in-github",
        "colab_type": "text"
      },
      "source": [
        "<a href=\"https://colab.research.google.com/github/owaisahmad315/pandas/blob/main/DataFrames.ipynb\" target=\"_parent\"><img src=\"https://colab.research.google.com/assets/colab-badge.svg\" alt=\"Open In Colab\"/></a>"
      ]
    },
    {
      "cell_type": "code",
      "execution_count": 1,
      "metadata": {
        "id": "Nl9dPskNl5b8"
      },
      "outputs": [],
      "source": [
        "\"\"\"\n",
        "Below is a simple attempt to create a tabular Python data structure that\n",
        "is column oriented. It has an 0-based integer index, but that is not required,\n",
        "the index could be string based. Each column is similar to the Series-like\n",
        "structure developed previously:\n",
        "\"\"\"\n",
        "\n",
        "df = {\n",
        "    'index': [0,1,2],\n",
        "    'cols' : [\n",
        "        {\n",
        "            'name' : 'growth',\n",
        "            'data' : [.5, .7, 1.2]\n",
        "        },\n",
        "        {\n",
        "            'name': 'Name',\n",
        "            'data' : ['Paul', 'George', 'Ringo']\n",
        "        }\n",
        "    ]\n",
        "}"
      ]
    },
    {
      "cell_type": "code",
      "source": [
        "\"\"\"\n",
        "Rows are accessed via the index, and columns are accessible from the\n",
        "column name. Below are simple functions for accessing rows and\n",
        "columns:\n",
        "\n",
        "\"\"\"\n",
        "def get_row(df, idx):\n",
        "  results = []\n",
        "  value_idx = df['index'].index(idx)\n",
        "  for col in df['cols']:\n",
        "    results.append(col['data'][value_idx])\n",
        "  return results\n",
        "get_row(df, 1)"
      ],
      "metadata": {
        "colab": {
          "base_uri": "https://localhost:8080/"
        },
        "id": "fxWJ5g38nhDd",
        "outputId": "e5e33626-35c9-49ad-9eb5-efc4326e8afb"
      },
      "execution_count": 3,
      "outputs": [
        {
          "output_type": "execute_result",
          "data": {
            "text/plain": [
              "[0.7, 'George']"
            ]
          },
          "metadata": {},
          "execution_count": 3
        }
      ]
    },
    {
      "cell_type": "code",
      "source": [
        "def get_col(df, name):\n",
        "  for col in df['cols']:\n",
        "    if col['name'] == name:\n",
        "      return col['data']\n",
        "get_col(df, 'Name')\n"
      ],
      "metadata": {
        "colab": {
          "base_uri": "https://localhost:8080/"
        },
        "id": "rejsllhlnhF5",
        "outputId": "402b7f0e-25b6-4ff1-99e4-efada9dcc488"
      },
      "execution_count": 4,
      "outputs": [
        {
          "output_type": "execute_result",
          "data": {
            "text/plain": [
              "['Paul', 'George', 'Ringo']"
            ]
          },
          "metadata": {},
          "execution_count": 4
        }
      ]
    },
    {
      "cell_type": "code",
      "source": [],
      "metadata": {
        "id": "qUQUvuaNnhIc"
      },
      "execution_count": null,
      "outputs": []
    },
    {
      "cell_type": "code",
      "source": [],
      "metadata": {
        "id": "7Z_NJKvRnhMA"
      },
      "execution_count": null,
      "outputs": []
    }
  ]
}