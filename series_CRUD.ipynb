{
  "nbformat": 4,
  "nbformat_minor": 0,
  "metadata": {
    "colab": {
      "provenance": [],
      "toc_visible": true,
      "authorship_tag": "ABX9TyOf7ObRkDdlBUillQv/CJqT",
      "include_colab_link": true
    },
    "kernelspec": {
      "name": "python3",
      "display_name": "Python 3"
    },
    "language_info": {
      "name": "python"
    }
  },
  "cells": [
    {
      "cell_type": "markdown",
      "metadata": {
        "id": "view-in-github",
        "colab_type": "text"
      },
      "source": [
        "<a href=\"https://colab.research.google.com/github/owaisahmad315/pandas/blob/main/series_CRUD.ipynb\" target=\"_parent\"><img src=\"https://colab.research.google.com/assets/colab-badge.svg\" alt=\"Open In Colab\"/></a>"
      ]
    },
    {
      "cell_type": "code",
      "source": [
        "import pandas as pd"
      ],
      "metadata": {
        "id": "vXCeGzYFtsNI"
      },
      "execution_count": 19,
      "outputs": []
    },
    {
      "cell_type": "code",
      "execution_count": 20,
      "metadata": {
        "id": "ULOrwmseryeN",
        "colab": {
          "base_uri": "https://localhost:8080/"
        },
        "outputId": "eb206510-9d9d-4057-b92f-9974e7b85dca"
      },
      "outputs": [
        {
          "output_type": "execute_result",
          "data": {
            "text/plain": [
              "1968    10\n",
              "1969     7\n",
              "1970     1\n",
              "1971    22\n",
              "Name: George Songs, dtype: int64"
            ]
          },
          "metadata": {},
          "execution_count": 20
        }
      ],
      "source": [
        "# create\n",
        "george_dupe = pd.Series([10,7,1,22],\n",
        "                        index = ['1968', '1969', '1970', '1971'],\n",
        "                        name = 'George Songs')\n",
        "george_dupe"
      ]
    },
    {
      "cell_type": "code",
      "source": [
        "# read\n",
        "george_dupe['1969']"
      ],
      "metadata": {
        "colab": {
          "base_uri": "https://localhost:8080/"
        },
        "id": "u0e9NvVEvjkK",
        "outputId": "2d0da30f-a921-405d-af3d-657d3086d47d"
      },
      "execution_count": 21,
      "outputs": [
        {
          "output_type": "execute_result",
          "data": {
            "text/plain": [
              "7"
            ]
          },
          "metadata": {},
          "execution_count": 21
        }
      ]
    },
    {
      "cell_type": "code",
      "source": [
        "# loop over values\n",
        "for item in george_dupe:\n",
        "  print(item)"
      ],
      "metadata": {
        "colab": {
          "base_uri": "https://localhost:8080/"
        },
        "id": "dFwKZIfYwTY3",
        "outputId": "0e733284-d563-4a6f-cda7-e88f2503002b"
      },
      "execution_count": 22,
      "outputs": [
        {
          "output_type": "stream",
          "name": "stdout",
          "text": [
            "10\n",
            "7\n",
            "1\n",
            "22\n"
          ]
        }
      ]
    },
    {
      "cell_type": "code",
      "source": [
        "# To test a series for membership\n",
        "# using set of the series\n",
        "22 in set(george_dupe)\n",
        "# using .value attribute\n",
        "22 in george_dupe.values"
      ],
      "metadata": {
        "colab": {
          "base_uri": "https://localhost:8080/"
        },
        "id": "aKu25WoXw4vH",
        "outputId": "6ff601a6-56d7-4b36-e4cb-0fe518a0759c"
      },
      "execution_count": 23,
      "outputs": [
        {
          "output_type": "execute_result",
          "data": {
            "text/plain": [
              "True"
            ]
          },
          "metadata": {},
          "execution_count": 23
        }
      ]
    },
    {
      "cell_type": "code",
      "source": [
        "\"\"\"\n",
        "To iterate over the tuples containing both the index label and the value,\n",
        "use the .iteritems method:\n",
        "\"\"\"\n",
        "for item in george_dupe.iteritems():\n",
        "  print(item)"
      ],
      "metadata": {
        "colab": {
          "base_uri": "https://localhost:8080/"
        },
        "id": "_LybWlSpxWCz",
        "outputId": "04c65116-be89-4e49-8d12-5c4f92d337c8"
      },
      "execution_count": 24,
      "outputs": [
        {
          "output_type": "stream",
          "name": "stdout",
          "text": [
            "('1968', 10)\n",
            "('1969', 7)\n",
            "('1970', 1)\n",
            "('1971', 22)\n"
          ]
        },
        {
          "output_type": "stream",
          "name": "stderr",
          "text": [
            "<ipython-input-24-5c0c074a92f0>:5: FutureWarning: iteritems is deprecated and will be removed in a future version. Use .items instead.\n",
            "  for item in george_dupe.iteritems():\n"
          ]
        }
      ]
    },
    {
      "cell_type": "code",
      "source": [
        "# Updating\n",
        "\"\"\"\n",
        "To update a value\n",
        "for a given index label, the standard index assignment operation works and\n",
        "performs the update in-place (in effect mutating the series):\n",
        "\"\"\"\n",
        "\n",
        "george_dupe['1968'] = 5\n",
        "george_dupe"
      ],
      "metadata": {
        "colab": {
          "base_uri": "https://localhost:8080/"
        },
        "id": "HQ7qCFv9xiaT",
        "outputId": "0ac062b6-8251-4c54-9a36-357f2024a839"
      },
      "execution_count": 25,
      "outputs": [
        {
          "output_type": "execute_result",
          "data": {
            "text/plain": [
              "1968     5\n",
              "1969     7\n",
              "1970     1\n",
              "1971    22\n",
              "Name: George Songs, dtype: int64"
            ]
          },
          "metadata": {},
          "execution_count": 25
        }
      ]
    },
    {
      "cell_type": "code",
      "source": [
        "\"\"\"\n",
        "To update values based purely on position, perform an index assignment of\n",
        "the .iloc attribute:\n",
        "\n",
        "\"\"\"\n",
        "\n",
        "george_dupe.iloc[3] = 22\n",
        "george_dupe"
      ],
      "metadata": {
        "colab": {
          "base_uri": "https://localhost:8080/"
        },
        "id": "Vkgq8X6ByQnm",
        "outputId": "41519492-76bf-4013-9bd9-c7884e8caa09"
      },
      "execution_count": 26,
      "outputs": [
        {
          "output_type": "execute_result",
          "data": {
            "text/plain": [
              "1968     5\n",
              "1969     7\n",
              "1970     1\n",
              "1971    22\n",
              "Name: George Songs, dtype: int64"
            ]
          },
          "metadata": {},
          "execution_count": 26
        }
      ]
    },
    {
      "cell_type": "code",
      "source": [
        "george_dupe.append(pd.Series({'1973': 9, '1974': 10} ))"
      ],
      "metadata": {
        "colab": {
          "base_uri": "https://localhost:8080/"
        },
        "id": "NOIDmopJzWSc",
        "outputId": "b7449fa2-2691-4445-d174-776d25e1149c"
      },
      "execution_count": 45,
      "outputs": [
        {
          "output_type": "stream",
          "name": "stderr",
          "text": [
            "<ipython-input-45-47d2af098048>:1: FutureWarning: The series.append method is deprecated and will be removed from pandas in a future version. Use pandas.concat instead.\n",
            "  george_dupe.append(pd.Series({'1973': 9, '1974': 10} ))\n"
          ]
        },
        {
          "output_type": "execute_result",
          "data": {
            "text/plain": [
              "1969      7\n",
              "1970      1\n",
              "1971     22\n",
              "1974    111\n",
              "1973      9\n",
              "1974     10\n",
              "dtype: int64"
            ]
          },
          "metadata": {},
          "execution_count": 45
        }
      ]
    },
    {
      "cell_type": "code",
      "source": [
        "# set values using at method\n",
        "george_dupe.at['1974'] = 111\n",
        "george_dupe\n"
      ],
      "metadata": {
        "colab": {
          "base_uri": "https://localhost:8080/"
        },
        "id": "RNTRIIdEzobM",
        "outputId": "59461d18-aba8-4766-a4ef-6844e06e074b"
      },
      "execution_count": 44,
      "outputs": [
        {
          "output_type": "execute_result",
          "data": {
            "text/plain": [
              "1969      7\n",
              "1970      1\n",
              "1971     22\n",
              "1974    111\n",
              "Name: George Songs, dtype: int64"
            ]
          },
          "metadata": {},
          "execution_count": 44
        }
      ]
    },
    {
      "cell_type": "code",
      "source": [
        "# Deletion\n",
        "del george_dupe['1970']\n",
        "george_dupe\n"
      ],
      "metadata": {
        "colab": {
          "base_uri": "https://localhost:8080/"
        },
        "id": "cXCZFX2D1Mg_",
        "outputId": "a7773c89-122d-4bb3-a5b3-2c554774de7c"
      },
      "execution_count": 46,
      "outputs": [
        {
          "output_type": "execute_result",
          "data": {
            "text/plain": [
              "1969      7\n",
              "1971     22\n",
              "1974    111\n",
              "Name: George Songs, dtype: int64"
            ]
          },
          "metadata": {},
          "execution_count": 46
        }
      ]
    }
  ]
}