{
  "nbformat": 4,
  "nbformat_minor": 0,
  "metadata": {
    "colab": {
      "provenance": [],
      "toc_visible": true,
      "authorship_tag": "ABX9TyP+tux0N5u8mGYFxzptl/RO",
      "include_colab_link": true
    },
    "kernelspec": {
      "name": "python3",
      "display_name": "Python 3"
    },
    "language_info": {
      "name": "python"
    }
  },
  "cells": [
    {
      "cell_type": "markdown",
      "metadata": {
        "id": "view-in-github",
        "colab_type": "text"
      },
      "source": [
        "<a href=\"https://colab.research.google.com/github/owaisahmad315/pandas/blob/main/series_CRUD.ipynb\" target=\"_parent\"><img src=\"https://colab.research.google.com/assets/colab-badge.svg\" alt=\"Open In Colab\"/></a>"
      ]
    },
    {
      "cell_type": "code",
      "source": [
        "import pandas as pd"
      ],
      "metadata": {
        "id": "vXCeGzYFtsNI"
      },
      "execution_count": 2,
      "outputs": []
    },
    {
      "cell_type": "code",
      "execution_count": 4,
      "metadata": {
        "id": "ULOrwmseryeN",
        "colab": {
          "base_uri": "https://localhost:8080/"
        },
        "outputId": "610ab136-3cb2-48c2-f1d2-51915dcb4edf"
      },
      "outputs": [
        {
          "output_type": "execute_result",
          "data": {
            "text/plain": [
              "1968    10\n",
              "1969     7\n",
              "1970     1\n",
              "1971    22\n",
              "Name: George Songs, dtype: int64"
            ]
          },
          "metadata": {},
          "execution_count": 4
        }
      ],
      "source": [
        "# create\n",
        "george_dupe = pd.Series([10,7,1,22],\n",
        "                        index = ['1968', '1969', '1970', '1971'],\n",
        "                        name = 'George Songs')\n",
        "george_dupe"
      ]
    }
  ]
}