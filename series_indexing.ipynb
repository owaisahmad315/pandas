{
  "nbformat": 4,
  "nbformat_minor": 0,
  "metadata": {
    "colab": {
      "provenance": [],
      "mount_file_id": "1ZnDVOKepp0ycIA69sB6pjVir_nhCXkc5",
      "authorship_tag": "ABX9TyOuVlvlKE759kJe7iXgdFfu",
      "include_colab_link": true
    },
    "kernelspec": {
      "name": "python3",
      "display_name": "Python 3"
    },
    "language_info": {
      "name": "python"
    }
  },
  "cells": [
    {
      "cell_type": "markdown",
      "metadata": {
        "id": "view-in-github",
        "colab_type": "text"
      },
      "source": [
        "<a href=\"https://colab.research.google.com/github/owaisahmad315/pandas/blob/main/series_indexing.ipynb\" target=\"_parent\"><img src=\"https://colab.research.google.com/assets/colab-badge.svg\" alt=\"Open In Colab\"/></a>"
      ]
    },
    {
      "cell_type": "code",
      "execution_count": 2,
      "metadata": {
        "id": "a4Wsf8qLEkfb"
      },
      "outputs": [],
      "source": [
        "import pandas as pd\n"
      ]
    },
    {
      "cell_type": "code",
      "source": [
        "george = pd.Series([10, 7],\n",
        "                   index = ['1968', '1969'],\n",
        "                   name = 'George Songs')\n",
        "george"
      ],
      "metadata": {
        "colab": {
          "base_uri": "https://localhost:8080/"
        },
        "id": "g6be0fQTFxfc",
        "outputId": "4220a1a7-65f3-4544-d65d-34f8c4566628"
      },
      "execution_count": 6,
      "outputs": [
        {
          "output_type": "execute_result",
          "data": {
            "text/plain": [
              "1968    10\n",
              "1969     7\n",
              "Name: George Songs, dtype: int64"
            ]
          },
          "metadata": {},
          "execution_count": 6
        }
      ]
    },
    {
      "cell_type": "code",
      "source": [
        "\"\"\"\n",
        "(pandas indicates that strings index\n",
        "entries are objects), note the dtype of the index attribute:\n",
        "\"\"\"\n",
        "\n",
        "george.index"
      ],
      "metadata": {
        "colab": {
          "base_uri": "https://localhost:8080/"
        },
        "id": "krRyvPxcG-bH",
        "outputId": "a3793aeb-df62-47c2-f7f2-31a59123281b"
      },
      "execution_count": 8,
      "outputs": [
        {
          "output_type": "execute_result",
          "data": {
            "text/plain": [
              "Index(['1968', '1969'], dtype='object')"
            ]
          },
          "metadata": {},
          "execution_count": 8
        }
      ]
    },
    {
      "cell_type": "code",
      "source": [
        "dupe = pd.Series([10, 2, 7],\n",
        "                 index = ['1968', '1968', '1969'],\n",
        "                 name = 'George Songs')\n",
        "dupe"
      ],
      "metadata": {
        "colab": {
          "base_uri": "https://localhost:8080/"
        },
        "id": "f9Xd-PKZHQrU",
        "outputId": "0afe5cd6-e05d-440b-b755-cf39def12631"
      },
      "execution_count": 13,
      "outputs": [
        {
          "output_type": "execute_result",
          "data": {
            "text/plain": [
              "1968    10\n",
              "1968     2\n",
              "1969     7\n",
              "Name: George Songs, dtype: int64"
            ]
          },
          "metadata": {},
          "execution_count": 13
        }
      ]
    },
    {
      "cell_type": "code",
      "source": [
        "dupe.index.is_unique"
      ],
      "metadata": {
        "colab": {
          "base_uri": "https://localhost:8080/"
        },
        "id": "YUJNqg4TH5VR",
        "outputId": "ec2d418e-aaf4-4a8e-e5ce-d8d4e537b580"
      },
      "execution_count": 14,
      "outputs": [
        {
          "output_type": "execute_result",
          "data": {
            "text/plain": [
              "False"
            ]
          },
          "metadata": {},
          "execution_count": 14
        }
      ]
    },
    {
      "cell_type": "code",
      "source": [
        "george.index.is_unique"
      ],
      "metadata": {
        "colab": {
          "base_uri": "https://localhost:8080/"
        },
        "id": "HCnyWFRYH7f4",
        "outputId": "5e5f6344-48e0-4cda-fa9c-35761a993228"
      },
      "execution_count": 15,
      "outputs": [
        {
          "output_type": "execute_result",
          "data": {
            "text/plain": [
              "True"
            ]
          },
          "metadata": {},
          "execution_count": 15
        }
      ]
    },
    {
      "cell_type": "code",
      "source": [
        "\"\"\"\n",
        "NOTE\n",
        "If the index is already using integer labels, then the fallback to\n",
        "position based indexing does not work!:\n",
        "\n",
        "\"\"\"\n",
        "george_i = pd.Series([10,7],\n",
        "                     index = ['1968', '1969'],\n",
        "                      name = 'George Songs')\n",
        "george_i[-1]\n"
      ],
      "metadata": {
        "colab": {
          "base_uri": "https://localhost:8080/"
        },
        "id": "LhlIMwTEO5K2",
        "outputId": "608e166e-29ad-4e1d-cc0a-03c67534481b"
      },
      "execution_count": 17,
      "outputs": [
        {
          "output_type": "execute_result",
          "data": {
            "text/plain": [
              "7"
            ]
          },
          "metadata": {},
          "execution_count": 17
        }
      ]
    }
  ]
}