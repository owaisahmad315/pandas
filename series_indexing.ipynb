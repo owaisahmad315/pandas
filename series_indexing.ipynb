{
  "nbformat": 4,
  "nbformat_minor": 0,
  "metadata": {
    "colab": {
      "provenance": [],
      "mount_file_id": "1ZnDVOKepp0ycIA69sB6pjVir_nhCXkc5",
      "authorship_tag": "ABX9TyN1e04kCFwt7RTPIYT/DwZL",
      "include_colab_link": true
    },
    "kernelspec": {
      "name": "python3",
      "display_name": "Python 3"
    },
    "language_info": {
      "name": "python"
    }
  },
  "cells": [
    {
      "cell_type": "markdown",
      "metadata": {
        "id": "view-in-github",
        "colab_type": "text"
      },
      "source": [
        "<a href=\"https://colab.research.google.com/github/owaisahmad315/pandas/blob/main/series_indexing.ipynb\" target=\"_parent\"><img src=\"https://colab.research.google.com/assets/colab-badge.svg\" alt=\"Open In Colab\"/></a>"
      ]
    },
    {
      "cell_type": "code",
      "execution_count": 2,
      "metadata": {
        "id": "a4Wsf8qLEkfb"
      },
      "outputs": [],
      "source": [
        "import pandas as pd\n"
      ]
    },
    {
      "cell_type": "code",
      "source": [
        "george = pd.Series([10, 7],\n",
        "                   index = ['1968', '1969'],\n",
        "                   name = 'George Songs')\n",
        "george"
      ],
      "metadata": {
        "colab": {
          "base_uri": "https://localhost:8080/"
        },
        "id": "g6be0fQTFxfc",
        "outputId": "4220a1a7-65f3-4544-d65d-34f8c4566628"
      },
      "execution_count": 6,
      "outputs": [
        {
          "output_type": "execute_result",
          "data": {
            "text/plain": [
              "1968    10\n",
              "1969     7\n",
              "Name: George Songs, dtype: int64"
            ]
          },
          "metadata": {},
          "execution_count": 6
        }
      ]
    },
    {
      "cell_type": "code",
      "source": [
        "\"\"\"\n",
        "(pandas indicates that strings index\n",
        "entries are objects), note the dtype of the index attribute:\n",
        "\"\"\"\n",
        "\n",
        "george.index"
      ],
      "metadata": {
        "colab": {
          "base_uri": "https://localhost:8080/"
        },
        "id": "krRyvPxcG-bH",
        "outputId": "a3793aeb-df62-47c2-f7f2-31a59123281b"
      },
      "execution_count": 8,
      "outputs": [
        {
          "output_type": "execute_result",
          "data": {
            "text/plain": [
              "Index(['1968', '1969'], dtype='object')"
            ]
          },
          "metadata": {},
          "execution_count": 8
        }
      ]
    },
    {
      "cell_type": "code",
      "source": [
        "dupe = pd.Series([10, 2, 7],\n",
        "                 index = ['1968', '1968', '1969'],\n",
        "                 name = 'George Songs')\n",
        "dupe"
      ],
      "metadata": {
        "colab": {
          "base_uri": "https://localhost:8080/"
        },
        "id": "f9Xd-PKZHQrU",
        "outputId": "0afe5cd6-e05d-440b-b755-cf39def12631"
      },
      "execution_count": 13,
      "outputs": [
        {
          "output_type": "execute_result",
          "data": {
            "text/plain": [
              "1968    10\n",
              "1968     2\n",
              "1969     7\n",
              "Name: George Songs, dtype: int64"
            ]
          },
          "metadata": {},
          "execution_count": 13
        }
      ]
    },
    {
      "cell_type": "code",
      "source": [
        "dupe.index.is_unique"
      ],
      "metadata": {
        "colab": {
          "base_uri": "https://localhost:8080/"
        },
        "id": "YUJNqg4TH5VR",
        "outputId": "ec2d418e-aaf4-4a8e-e5ce-d8d4e537b580"
      },
      "execution_count": 14,
      "outputs": [
        {
          "output_type": "execute_result",
          "data": {
            "text/plain": [
              "False"
            ]
          },
          "metadata": {},
          "execution_count": 14
        }
      ]
    },
    {
      "cell_type": "code",
      "source": [
        "george.index.is_unique"
      ],
      "metadata": {
        "colab": {
          "base_uri": "https://localhost:8080/"
        },
        "id": "HCnyWFRYH7f4",
        "outputId": "5e5f6344-48e0-4cda-fa9c-35761a993228"
      },
      "execution_count": 15,
      "outputs": [
        {
          "output_type": "execute_result",
          "data": {
            "text/plain": [
              "True"
            ]
          },
          "metadata": {},
          "execution_count": 15
        }
      ]
    },
    {
      "cell_type": "code",
      "source": [
        "\"\"\"\n",
        "NOTE\n",
        "If the index is already using integer labels, then the fallback to\n",
        "position based indexing does not work!:\n",
        "\n",
        "\"\"\"\n",
        "george_i = pd.Series([10,7],\n",
        "                     index = ['1968', '1969'],\n",
        "                      name = 'George Songs')\n",
        "george_i[-1]\n"
      ],
      "metadata": {
        "colab": {
          "base_uri": "https://localhost:8080/"
        },
        "id": "LhlIMwTEO5K2",
        "outputId": "608e166e-29ad-4e1d-cc0a-03c67534481b"
      },
      "execution_count": 17,
      "outputs": [
        {
          "output_type": "execute_result",
          "data": {
            "text/plain": [
              "7"
            ]
          },
          "metadata": {},
          "execution_count": 17
        }
      ]
    },
    {
      "cell_type": "code",
      "source": [
        "# .iloc and .loc\n",
        "\"\"\"\n",
        "When we perform an index operation on the .iloc attribute, it does\n",
        "lookup based on index position (in this case pandas behaves similar to a\n",
        "Python list). pandas will raise an IndexError if there is no index at that\n",
        "location:\n",
        "\"\"\"\n",
        "george.iloc[0]"
      ],
      "metadata": {
        "colab": {
          "base_uri": "https://localhost:8080/"
        },
        "id": "aEjYg8M3P-Pq",
        "outputId": "1bc1c0c3-7c0e-4bbb-9b21-404e05727075"
      },
      "execution_count": 18,
      "outputs": [
        {
          "output_type": "execute_result",
          "data": {
            "text/plain": [
              "10"
            ]
          },
          "metadata": {},
          "execution_count": 18
        }
      ]
    },
    {
      "cell_type": "code",
      "source": [
        "george.iloc[-1]"
      ],
      "metadata": {
        "colab": {
          "base_uri": "https://localhost:8080/"
        },
        "id": "OK12M0plQLTJ",
        "outputId": "8c22a1ff-e4c5-4194-a7e9-540db740da26"
      },
      "execution_count": 20,
      "outputs": [
        {
          "output_type": "execute_result",
          "data": {
            "text/plain": [
              "7"
            ]
          },
          "metadata": {},
          "execution_count": 20
        }
      ]
    },
    {
      "cell_type": "code",
      "source": [
        "# here is the error, run and check it\n",
        "george.iloc[4]"
      ],
      "metadata": {
        "id": "uIZd0LVAQYYg"
      },
      "execution_count": null,
      "outputs": []
    },
    {
      "cell_type": "code",
      "source": [
        "george.iloc['1968']\n",
        "# Traceback (most recent call last):\n"
      ],
      "metadata": {
        "id": "xUpcyqKoQjco"
      },
      "execution_count": null,
      "outputs": []
    },
    {
      "cell_type": "code",
      "source": [
        "\"\"\"\n",
        "In addition to pulling out a single item, we can slice just like in normal\n",
        "Python:\n",
        "\n",
        "\"\"\"\n",
        "\n",
        "george.iloc[0:3] # slide"
      ],
      "metadata": {
        "colab": {
          "base_uri": "https://localhost:8080/"
        },
        "id": "QXSGGDjxSgDh",
        "outputId": "d72bbb42-9d84-44d3-d697-0e96ef9978e8"
      },
      "execution_count": 25,
      "outputs": [
        {
          "output_type": "execute_result",
          "data": {
            "text/plain": [
              "1968    10\n",
              "1969     7\n",
              "Name: George Songs, dtype: int64"
            ]
          },
          "metadata": {},
          "execution_count": 25
        }
      ]
    },
    {
      "cell_type": "code",
      "source": [
        "# You can pass in a list of index locations to the index operation:\n",
        "george.iloc[[0,1]]\n"
      ],
      "metadata": {
        "colab": {
          "base_uri": "https://localhost:8080/"
        },
        "id": "Ffwwpk0KTX67",
        "outputId": "52e3efa5-07ae-4d56-8b0d-6202ddf5e895"
      },
      "execution_count": 27,
      "outputs": [
        {
          "output_type": "execute_result",
          "data": {
            "text/plain": [
              "1968    10\n",
              "1969     7\n",
              "Name: George Songs, dtype: int64"
            ]
          },
          "metadata": {},
          "execution_count": 27
        }
      ]
    },
    {
      "cell_type": "code",
      "source": [
        "george.loc['1970']\n"
      ],
      "metadata": {
        "id": "YNGZOQCtVXGw"
      },
      "execution_count": null,
      "outputs": []
    },
    {
      "cell_type": "code",
      "source": [
        "# .at and .iat\n",
        "\"\"\"\n",
        "The .at and .iat index accessors are analogous to .loc and .iloc. The\n",
        "difference being that they will return a numpy.ndarray when pulling out a\n",
        "duplicate value, whereas .loc and .iloc return a Series:\n",
        "\n",
        "\"\"\"\n",
        "george_dupe = pd.Series([10, 7, 1, 22],\n",
        "                        index=['1968', '1969', '1970', '1970'],\n",
        "                        name = 'George Songs')\n",
        "george_dupe"
      ],
      "metadata": {
        "colab": {
          "base_uri": "https://localhost:8080/"
        },
        "id": "XHK4XwOcl0Tz",
        "outputId": "d591483e-6fe4-45be-de5d-023267b3b21c"
      },
      "execution_count": 32,
      "outputs": [
        {
          "output_type": "execute_result",
          "data": {
            "text/plain": [
              "1968    10\n",
              "1969     7\n",
              "1970     1\n",
              "1970    22\n",
              "Name: George Songs, dtype: int64"
            ]
          },
          "metadata": {},
          "execution_count": 32
        }
      ]
    },
    {
      "cell_type": "code",
      "source": [
        "george_dupe.at['1970']\n",
        "# it will return numpy.ndarray"
      ],
      "metadata": {
        "colab": {
          "base_uri": "https://localhost:8080/"
        },
        "id": "ArjNI5ngmv7w",
        "outputId": "f5a9be0b-954d-4a95-857e-aa1a1c19cb43"
      },
      "execution_count": 38,
      "outputs": [
        {
          "output_type": "execute_result",
          "data": {
            "text/plain": [
              "1970     1\n",
              "1970    22\n",
              "Name: George Songs, dtype: int64"
            ]
          },
          "metadata": {},
          "execution_count": 38
        }
      ]
    },
    {
      "cell_type": "code",
      "source": [
        "george_dupe.loc['1970']\n",
        "# .loc and .iloc return a Series:"
      ],
      "metadata": {
        "colab": {
          "base_uri": "https://localhost:8080/"
        },
        "id": "OhpvPRzTnGv5",
        "outputId": "5c166a2b-df05-4a2d-ffee-0646a7b53249"
      },
      "execution_count": 40,
      "outputs": [
        {
          "output_type": "execute_result",
          "data": {
            "text/plain": [
              "1970     1\n",
              "1970    22\n",
              "Name: George Songs, dtype: int64"
            ]
          },
          "metadata": {},
          "execution_count": 40
        }
      ]
    }
  ]
}