{
  "nbformat": 4,
  "nbformat_minor": 0,
  "metadata": {
    "colab": {
      "provenance": [],
      "mount_file_id": "1hMJ-t4bmsRtLOENm-mj9rqtOuc3INKn0",
      "authorship_tag": "ABX9TyMu7q0MlLFx9XnbtrpU0IYo",
      "include_colab_link": true
    },
    "kernelspec": {
      "name": "python3",
      "display_name": "Python 3"
    },
    "language_info": {
      "name": "python"
    }
  },
  "cells": [
    {
      "cell_type": "markdown",
      "metadata": {
        "id": "view-in-github",
        "colab_type": "text"
      },
      "source": [
        "<a href=\"https://colab.research.google.com/github/owaisahmad315/pandas/blob/main/counts.ipynb\" target=\"_parent\"><img src=\"https://colab.research.google.com/assets/colab-badge.svg\" alt=\"Open In Colab\"/></a>"
      ]
    },
    {
      "cell_type": "code",
      "source": [
        "import pandas as pd"
      ],
      "metadata": {
        "id": "4nxhNHOeUtVK"
      },
      "execution_count": 4,
      "outputs": []
    },
    {
      "cell_type": "code",
      "execution_count": 7,
      "metadata": {
        "id": "PokTVA-2TDhH"
      },
      "outputs": [],
      "source": [
        "\"\"\"\n",
        "how to get an overview of the data found in a\n",
        "series. For the following examples we will use two series. The songs_66\n",
        "series:\n",
        "\n",
        "\"\"\"\n",
        "songs_66 = pd.Series([3, None , 11, 9],\n",
        "                      index=['George', 'Ringo', 'John', 'Paul'],\n",
        "                      name='Counts')\n"
      ]
    }
  ]
}