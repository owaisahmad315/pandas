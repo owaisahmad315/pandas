{
  "nbformat": 4,
  "nbformat_minor": 0,
  "metadata": {
    "colab": {
      "provenance": [],
      "mount_file_id": "1hMJ-t4bmsRtLOENm-mj9rqtOuc3INKn0",
      "authorship_tag": "ABX9TyP8D4sG3CpMWWqm9qWi7Doo",
      "include_colab_link": true
    },
    "kernelspec": {
      "name": "python3",
      "display_name": "Python 3"
    },
    "language_info": {
      "name": "python"
    }
  },
  "cells": [
    {
      "cell_type": "markdown",
      "metadata": {
        "id": "view-in-github",
        "colab_type": "text"
      },
      "source": [
        "<a href=\"https://colab.research.google.com/github/owaisahmad315/pandas/blob/main/counts.ipynb\" target=\"_parent\"><img src=\"https://colab.research.google.com/assets/colab-badge.svg\" alt=\"Open In Colab\"/></a>"
      ]
    },
    {
      "cell_type": "code",
      "source": [
        "import pandas as pd"
      ],
      "metadata": {
        "id": "4nxhNHOeUtVK"
      },
      "execution_count": 4,
      "outputs": []
    },
    {
      "cell_type": "code",
      "execution_count": 8,
      "metadata": {
        "colab": {
          "base_uri": "https://localhost:8080/"
        },
        "id": "PokTVA-2TDhH",
        "outputId": "d783ac20-03a6-4464-8081-bc89540ef01b"
      },
      "outputs": [
        {
          "output_type": "execute_result",
          "data": {
            "text/plain": [
              "George     3.0\n",
              "Ringo      NaN\n",
              "John      11.0\n",
              "Paul       9.0\n",
              "Name: Counts, dtype: float64"
            ]
          },
          "metadata": {},
          "execution_count": 8
        }
      ],
      "source": [
        "\"\"\"\n",
        "how to get an overview of the data found in a\n",
        "series. For the following examples we will use two series. The songs_66\n",
        "series:\n",
        "\n",
        "\"\"\"\n",
        "songs_66 = pd.Series([3, None , 11, 9],\n",
        "                      index=['George', 'Ringo', 'John', 'Paul'],\n",
        "                      name='Counts')\n",
        "songs_66\n"
      ]
    },
    {
      "cell_type": "code",
      "source": [
        "# And the scores_2 series:\n",
        "scores2 = pd.Series([67.3, 100, 96.7, None, 100],\n",
        "                    index=['Ringo', 'Paul', 'George', 'Peter', 'Billy'],\n",
        "                    name='test2')\n",
        "scores2"
      ],
      "metadata": {
        "colab": {
          "base_uri": "https://localhost:8080/"
        },
        "id": "p6lH7htEVRG_",
        "outputId": "1badc554-83b1-47ab-d3c4-2a3cce479bd1"
      },
      "execution_count": 9,
      "outputs": [
        {
          "output_type": "execute_result",
          "data": {
            "text/plain": [
              "Ringo      67.3\n",
              "Paul      100.0\n",
              "George     96.7\n",
              "Peter       NaN\n",
              "Billy     100.0\n",
              "Name: test2, dtype: float64"
            ]
          },
          "metadata": {},
          "execution_count": 9
        }
      ]
    },
    {
      "cell_type": "code",
      "source": [
        "\"\"\" Given a series, the\n",
        ".count method returns the number of non-null items. The scores2 series\n",
        "has 5 entries but one of them is None, so .count only returns 4:\n",
        "\"\"\"\n",
        "scores2.count() # important to note\n"
      ],
      "metadata": {
        "colab": {
          "base_uri": "https://localhost:8080/"
        },
        "id": "3IyAdenKVmbS",
        "outputId": "3bee45d1-fa7a-47b0-b917-97ab4f489389"
      },
      "execution_count": 10,
      "outputs": [
        {
          "output_type": "execute_result",
          "data": {
            "text/plain": [
              "4"
            ]
          },
          "metadata": {},
          "execution_count": 10
        }
      ]
    },
    {
      "cell_type": "code",
      "source": [
        "\"\"\"\n",
        ".value_counts returns a mapping of those values to their counts, ordered\n",
        "by frequency:\n",
        "\n",
        "\"\"\"\n",
        "scores2.value_counts()"
      ],
      "metadata": {
        "colab": {
          "base_uri": "https://localhost:8080/"
        },
        "id": "c0FUwImoWgjF",
        "outputId": "b016d20e-2446-401c-b1fd-a17671787e8c"
      },
      "execution_count": 11,
      "outputs": [
        {
          "output_type": "execute_result",
          "data": {
            "text/plain": [
              "100.0    2\n",
              "67.3     1\n",
              "96.7     1\n",
              "Name: test2, dtype: int64"
            ]
          },
          "metadata": {},
          "execution_count": 11
        }
      ]
    },
    {
      "cell_type": "code",
      "source": [
        "\"\"\"\n",
        "To get the unique values or the count of non-NaN items use the .unique\n",
        "and .nunique methods respectively. Note that .unique includes the nan\n",
        "value, but .nunique does not count it:\n",
        "\n",
        "\"\"\"\n",
        "scores2.unique()"
      ],
      "metadata": {
        "colab": {
          "base_uri": "https://localhost:8080/"
        },
        "id": "OZlUzKnBWyXx",
        "outputId": "7a88cad3-bcb6-4da1-d1e8-15ce955cb80b"
      },
      "execution_count": 12,
      "outputs": [
        {
          "output_type": "execute_result",
          "data": {
            "text/plain": [
              "array([ 67.3, 100. ,  96.7,   nan])"
            ]
          },
          "metadata": {},
          "execution_count": 12
        }
      ]
    },
    {
      "cell_type": "code",
      "source": [
        "scores2.nunique()"
      ],
      "metadata": {
        "colab": {
          "base_uri": "https://localhost:8080/"
        },
        "id": "qPBtOfY2XDvb",
        "outputId": "752c88c5-020f-4678-c7ab-ee9b64445ee5"
      },
      "execution_count": 13,
      "outputs": [
        {
          "output_type": "execute_result",
          "data": {
            "text/plain": [
              "3"
            ]
          },
          "metadata": {},
          "execution_count": 13
        }
      ]
    },
    {
      "cell_type": "code",
      "source": [
        "\"\"\"\n",
        "Dealing with duplicate values is another feature of pandas. To drop\n",
        "duplicate values use the .drop_duplicates method. Since Billy has the\n",
        "same score as Paul, he will get dropped:\n",
        "\n",
        "\"\"\"\n",
        "scores2.drop_duplicates()"
      ],
      "metadata": {
        "colab": {
          "base_uri": "https://localhost:8080/"
        },
        "id": "bBnOV6SHXOk-",
        "outputId": "65d73872-56d3-4647-e8df-6c28c2cab7b9"
      },
      "execution_count": 15,
      "outputs": [
        {
          "output_type": "execute_result",
          "data": {
            "text/plain": [
              "Ringo      67.3\n",
              "Paul      100.0\n",
              "George     96.7\n",
              "Peter       NaN\n",
              "Name: test2, dtype: float64"
            ]
          },
          "metadata": {},
          "execution_count": 15
        }
      ]
    },
    {
      "cell_type": "code",
      "source": [
        "\"\"\"\n",
        "To retrieve a series with boolean values indicating whether its value was\n",
        "repeated, use the .duplicated method:\n",
        "\n",
        "\"\"\"\n",
        "scores2.duplicated()"
      ],
      "metadata": {
        "colab": {
          "base_uri": "https://localhost:8080/"
        },
        "id": "iXmfK3TmXy_c",
        "outputId": "bda36294-d346-4fc2-89fc-b3f8550c6441"
      },
      "execution_count": 16,
      "outputs": [
        {
          "output_type": "execute_result",
          "data": {
            "text/plain": [
              "Ringo     False\n",
              "Paul      False\n",
              "George    False\n",
              "Peter     False\n",
              "Billy      True\n",
              "Name: test2, dtype: bool"
            ]
          },
          "metadata": {},
          "execution_count": 16
        }
      ]
    },
    {
      "cell_type": "code",
      "source": [
        "\"\"\"\n",
        "To drop duplicate index entries requires a little more effort. Lets create a\n",
        "series, scores3, that has 'Paul' in the index twice. If we use the .groupby\n",
        "method, and group by the index, we can then take the first or last item\n",
        "from the values for each index label:\n",
        "\n",
        "\"\"\"\n",
        "scores3 = pd.Series([67.3, 100, 96.7, None, 100, 79],\n",
        "                    index=['Ringo', 'Paul', 'George', 'Peter', 'Billy',\n",
        "                    'Paul'])\n",
        "scores3\n"
      ],
      "metadata": {
        "colab": {
          "base_uri": "https://localhost:8080/"
        },
        "id": "wdOGsR7mYYpa",
        "outputId": "47be2711-6779-45ff-f972-50d8abd3e4e3"
      },
      "execution_count": 22,
      "outputs": [
        {
          "output_type": "execute_result",
          "data": {
            "text/plain": [
              "Ringo      67.3\n",
              "Paul      100.0\n",
              "George     96.7\n",
              "Peter       NaN\n",
              "Billy     100.0\n",
              "Paul       79.0\n",
              "dtype: float64"
            ]
          },
          "metadata": {},
          "execution_count": 22
        }
      ]
    },
    {
      "cell_type": "code",
      "source": [
        "scores3.groupby(scores3.index).first()"
      ],
      "metadata": {
        "colab": {
          "base_uri": "https://localhost:8080/"
        },
        "id": "_lu1gomEZnQ2",
        "outputId": "6b138719-accb-4c9e-cd39-a637c51ac875"
      },
      "execution_count": 24,
      "outputs": [
        {
          "output_type": "execute_result",
          "data": {
            "text/plain": [
              "Billy     100.0\n",
              "George     96.7\n",
              "Paul      100.0\n",
              "Peter       NaN\n",
              "Ringo      67.3\n",
              "dtype: float64"
            ]
          },
          "metadata": {},
          "execution_count": 24
        }
      ]
    },
    {
      "cell_type": "code",
      "source": [
        "scores3.groupby(scores3.index).last()"
      ],
      "metadata": {
        "colab": {
          "base_uri": "https://localhost:8080/"
        },
        "id": "4LeSmuflbAki",
        "outputId": "761563d9-49b7-439d-9d13-bb25808d4b4b"
      },
      "execution_count": 25,
      "outputs": [
        {
          "output_type": "execute_result",
          "data": {
            "text/plain": [
              "Billy     100.0\n",
              "George     96.7\n",
              "Paul       79.0\n",
              "Peter       NaN\n",
              "Ringo      67.3\n",
              "dtype: float64"
            ]
          },
          "metadata": {},
          "execution_count": 25
        }
      ]
    }
  ]
}