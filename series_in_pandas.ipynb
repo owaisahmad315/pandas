{
  "nbformat": 4,
  "nbformat_minor": 0,
  "metadata": {
    "colab": {
      "provenance": [],
      "authorship_tag": "ABX9TyN5Maogxs5jUoXHCA0uv1wm",
      "include_colab_link": true
    },
    "kernelspec": {
      "name": "python3",
      "display_name": "Python 3"
    },
    "language_info": {
      "name": "python"
    }
  },
  "cells": [
    {
      "cell_type": "markdown",
      "metadata": {
        "id": "view-in-github",
        "colab_type": "text"
      },
      "source": [
        "<a href=\"https://colab.research.google.com/github/owaisahmad315/pandas/blob/main/series_in_pandas.ipynb\" target=\"_parent\"><img src=\"https://colab.research.google.com/assets/colab-badge.svg\" alt=\"Open In Colab\"/></a>"
      ]
    },
    {
      "cell_type": "code",
      "execution_count": null,
      "metadata": {
        "id": "Q5Iylq-9Ruh_"
      },
      "outputs": [],
      "source": [
        "import pandas as pd\n"
      ]
    },
    {
      "cell_type": "code",
      "source": [
        "songs2 = pd.Series([145, 142,38,13], name = 'counts')\n",
        "songs2"
      ],
      "metadata": {
        "colab": {
          "base_uri": "https://localhost:8080/"
        },
        "id": "8UJ6w6U-R4kG",
        "outputId": "b08bcf03-17e4-43bc-9100-6c0a923fde30"
      },
      "execution_count": null,
      "outputs": [
        {
          "output_type": "execute_result",
          "data": {
            "text/plain": [
              "0    145\n",
              "1    142\n",
              "2     38\n",
              "3     13\n",
              "Name: counts, dtype: int64"
            ]
          },
          "metadata": {},
          "execution_count": 13
        }
      ]
    },
    {
      "cell_type": "code",
      "source": [
        "songs2 = pd.Series([145, 142,38,13], name = 'counts', index = ['paul', 'jhon', 'owais', 'someone'])\n",
        "songs2"
      ],
      "metadata": {
        "colab": {
          "base_uri": "https://localhost:8080/"
        },
        "id": "__0jLHxKSeQB",
        "outputId": "ad49f887-c4d3-41a8-c321-ed4758ad0916"
      },
      "execution_count": null,
      "outputs": [
        {
          "output_type": "execute_result",
          "data": {
            "text/plain": [
              "paul       145\n",
              "jhon       142\n",
              "owais       38\n",
              "someone     13\n",
              "Name: counts, dtype: int64"
            ]
          },
          "metadata": {},
          "execution_count": 14
        }
      ]
    },
    {
      "cell_type": "code",
      "source": [
        "# The NaN value\n",
        "nan_sar = pd.Series([2, None],\n",
        "                    index = ['oho', 'Clapton'])\n",
        "nan_sar"
      ],
      "metadata": {
        "colab": {
          "base_uri": "https://localhost:8080/"
        },
        "id": "j93HIjSZr1Lz",
        "outputId": "e50d0c4b-6a68-4f73-8b89-f2771bacd6a9"
      },
      "execution_count": null,
      "outputs": [
        {
          "output_type": "execute_result",
          "data": {
            "text/plain": [
              "oho        2.0\n",
              "Clapton    NaN\n",
              "dtype: float64"
            ]
          },
          "metadata": {},
          "execution_count": 15
        }
      ]
    },
    {
      "cell_type": "code",
      "source": [
        "import numpy as np\n",
        "numpy_ser = np.array([145,142,38,13])\n",
        "songs2[1]\n",
        "numpy_ser[1]"
      ],
      "metadata": {
        "colab": {
          "base_uri": "https://localhost:8080/"
        },
        "id": "fTnzCZEhxY9f",
        "outputId": "dee5e7f0-d90f-4de6-d23f-5203f2e6d7ce"
      },
      "execution_count": null,
      "outputs": [
        {
          "output_type": "execute_result",
          "data": {
            "text/plain": [
              "142"
            ]
          },
          "metadata": {},
          "execution_count": 16
        }
      ]
    },
    {
      "cell_type": "code",
      "source": [
        "numpy_ser.mean()"
      ],
      "metadata": {
        "colab": {
          "base_uri": "https://localhost:8080/"
        },
        "id": "vgZw4_zrxjWC",
        "outputId": "b33530b7-734f-46a9-98a5-48fbc48e46ab"
      },
      "execution_count": null,
      "outputs": [
        {
          "output_type": "execute_result",
          "data": {
            "text/plain": [
              "84.5"
            ]
          },
          "metadata": {},
          "execution_count": 17
        }
      ]
    },
    {
      "cell_type": "markdown",
      "source": [],
      "metadata": {
        "id": "keGRHBAFAgEc"
      }
    },
    {
      "cell_type": "code",
      "source": [
        "songs2.mean()"
      ],
      "metadata": {
        "colab": {
          "base_uri": "https://localhost:8080/"
        },
        "id": "j8vFJAKeyIiW",
        "outputId": "5f0e0edd-f2cb-4b8b-9ef4-6056beff1149"
      },
      "execution_count": null,
      "outputs": [
        {
          "output_type": "execute_result",
          "data": {
            "text/plain": [
              "84.5"
            ]
          },
          "metadata": {},
          "execution_count": 18
        }
      ]
    },
    {
      "cell_type": "code",
      "source": [
        "mask = songs2 > songs2.median()\n",
        "mask"
      ],
      "metadata": {
        "colab": {
          "base_uri": "https://localhost:8080/"
        },
        "id": "XANC9JYnydMK",
        "outputId": "5c1ccfbd-feb5-486a-a931-1bf308a723ce"
      },
      "execution_count": null,
      "outputs": [
        {
          "output_type": "execute_result",
          "data": {
            "text/plain": [
              "paul        True\n",
              "jhon        True\n",
              "owais      False\n",
              "someone    False\n",
              "Name: counts, dtype: bool"
            ]
          },
          "metadata": {},
          "execution_count": 19
        }
      ]
    }
  ]
}